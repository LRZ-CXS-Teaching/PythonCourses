{
 "cells": [
  {
   "cell_type": "markdown",
   "id": "940cc7bb",
   "metadata": {},
   "source": [
    "<br>"
   ]
  },
  {
   "cell_type": "markdown",
   "id": "5681fedf",
   "metadata": {},
   "source": [
    "<p style='text-align: right;'> Birkan Emrem </p>\n",
    "<p style='text-align: right;'> 22.09.2025 </p>\n",
    "<p style='text-align: right;'> CXS Internal Course: Python Refresher - Advanced  </p>"
   ]
  },
  {
   "cell_type": "markdown",
   "id": "1021ae47",
   "metadata": {},
   "source": [
    "## Python Syntax Essentials\n",
    "#### Indentation & Code Blocks"
   ]
  },
  {
   "cell_type": "code",
   "execution_count": null,
   "id": "bfc4c015",
   "metadata": {},
   "outputs": [],
   "source": [
    "score = 86\n",
    "if score > 80:\n",
    "    print(\"Excellent!\")\n",
    "else:\n",
    "    print(\"Keep improving.\")"
   ]
  },
  {
   "cell_type": "markdown",
   "id": "f4439f5e",
   "metadata": {},
   "source": [
    "### Key Points:\n",
    "- No `{}` or `endif`\n",
    "- Use colons : after statements like `if`, `for`, `while`, `def` and `class`.\n",
    "- 4-space identation - (Convention)\n",
    "- Consistent indentation is critical"
   ]
  },
  {
   "cell_type": "markdown",
   "id": "c3e3f11e",
   "metadata": {},
   "source": [
    "#### Semicolons"
   ]
  },
  {
   "cell_type": "code",
   "execution_count": null,
   "id": "0b6bbcbe",
   "metadata": {},
   "outputs": [],
   "source": [
    "x = 5\n",
    "y = 10\n",
    "\n",
    "x = 5; y = 10 #discouraged"
   ]
  },
  {
   "cell_type": "markdown",
   "id": "00b50a0f",
   "metadata": {},
   "source": [
    "Semicolons are optional and not recommended"
   ]
  },
  {
   "cell_type": "markdown",
   "id": "286f1813",
   "metadata": {},
   "source": [
    "### Best Practices\n",
    "- Use consistent indentation\n",
    "- Prefer readability over cleverness\n",
    "- Avoid unnecessary use of semicolons"
   ]
  },
  {
   "cell_type": "markdown",
   "id": "5da03a88",
   "metadata": {},
   "source": [
    "<hr style=\"border:1.3px solid gray\">"
   ]
  },
  {
   "cell_type": "markdown",
   "id": "92a7a580",
   "metadata": {},
   "source": [
    "## Variables and Assignment\n",
    "Python is a dynamically typed language!"
   ]
  },
  {
   "cell_type": "markdown",
   "id": "eda85979",
   "metadata": {},
   "source": [
    "#### Basic Assignment"
   ]
  },
  {
   "cell_type": "code",
   "execution_count": null,
   "id": "b7628b6b",
   "metadata": {},
   "outputs": [],
   "source": [
    "name = \"Ada\" # or name = ‘Ada‘\n",
    "age = 32\n",
    "wage = 14.55 # per hour"
   ]
  },
  {
   "cell_type": "markdown",
   "id": "53f34688",
   "metadata": {},
   "source": [
    "- Avoid using Python keywords as variable names\n",
    "- Use descriptive variable names\n",
    "- Variable names must begin with a letter or _"
   ]
  },
  {
   "cell_type": "markdown",
   "id": "9ab5120e",
   "metadata": {},
   "source": [
    "#### Multiple Assignment and Swapping Values"
   ]
  },
  {
   "cell_type": "code",
   "execution_count": null,
   "id": "8f153c39",
   "metadata": {},
   "outputs": [],
   "source": [
    "x, y = 10, 20\n",
    "a, b = 1, 2\n",
    "a, b = b, a"
   ]
  },
  {
   "cell_type": "markdown",
   "id": "08495d81",
   "metadata": {},
   "source": [
    "#### Dynamic Typing"
   ]
  },
  {
   "cell_type": "markdown",
   "id": "c30b3d12",
   "metadata": {},
   "source": [
    "| **Type** | **Example** |\n",
    "| --- | --- |\n",
    "| `int` | 47 |\n",
    "| `float` | 3.14 |\n",
    "| `str` | \"Hello\" |\n",
    "| `bool` | True, False |\n",
    "| `None` | None |"
   ]
  },
  {
   "cell_type": "markdown",
   "id": "af953a12",
   "metadata": {},
   "source": [
    "use `type()` function to check data type"
   ]
  },
  {
   "cell_type": "code",
   "execution_count": null,
   "id": "6235d62d",
   "metadata": {},
   "outputs": [],
   "source": [
    "print(type(name))\n",
    "print(type(score))\n",
    "print(type(wage))"
   ]
  },
  {
   "cell_type": "markdown",
   "id": "b16b04c4",
   "metadata": {},
   "source": [
    "<hr style=\"border:1.3px solid gray\">"
   ]
  },
  {
   "cell_type": "markdown",
   "id": "a29eb1ca",
   "metadata": {},
   "source": [
    "## Comprehensions"
   ]
  },
  {
   "cell_type": "markdown",
   "id": "0c3f2539",
   "metadata": {},
   "source": [
    "#### List"
   ]
  },
  {
   "cell_type": "code",
   "execution_count": null,
   "id": "bb36ee86",
   "metadata": {},
   "outputs": [],
   "source": [
    "# list comprehension\n",
    "nums = [1, 2, 3, 4, 5]\n",
    "evs = [n**2 for n in nums]\n",
    "print(evs)"
   ]
  },
  {
   "cell_type": "code",
   "execution_count": null,
   "id": "b5cc0c49",
   "metadata": {},
   "outputs": [],
   "source": [
    "# conditional list comprehension\n",
    "nums = [1, 2, 3, 4, 5]\n",
    "evs = [n**2 for n in nums if n%2==0]\n",
    "print(evs)"
   ]
  },
  {
   "cell_type": "code",
   "execution_count": null,
   "id": "d77cb989",
   "metadata": {},
   "outputs": [],
   "source": [
    "# Applying a function in a comprehension\n",
    "def cube(x):\n",
    "    return x**3\n",
    "\n",
    "cubes = [cube(n) for n in range(4)]\n",
    "cubes"
   ]
  },
  {
   "cell_type": "markdown",
   "id": "7af931a1",
   "metadata": {},
   "source": [
    "### Key Points\n",
    "- Use conditions for filtering\n",
    "- Nested comprehensions replace nested loops"
   ]
  },
  {
   "cell_type": "markdown",
   "id": "1caa5a46",
   "metadata": {},
   "source": [
    "#### Set & Dict Comprehensions"
   ]
  },
  {
   "cell_type": "code",
   "execution_count": null,
   "id": "7fe8e2fd",
   "metadata": {},
   "outputs": [],
   "source": [
    "# filtering\n",
    "nums2 = [1, 2, 2, 3, 3]\n",
    "unique = {i**2 for i in nums2}\n",
    "unique"
   ]
  },
  {
   "cell_type": "code",
   "execution_count": null,
   "id": "0dda52c1",
   "metadata": {},
   "outputs": [],
   "source": [
    "# dict comprehensions\n",
    "grades = {\"Ada\": 85, \"Tom\":33, \"Vera\": 73}\n",
    "stat = {n: (\"Pass\" if g>70 else \"Fail\") for n, g in grades.items()}\n",
    "stat"
   ]
  },
  {
   "cell_type": "markdown",
   "id": "e1b21ea4",
   "metadata": {},
   "source": [
    "### Key Points\n",
    "- Set comprehensions remove duplicates\n",
    "- Can include conditional logic"
   ]
  },
  {
   "cell_type": "markdown",
   "id": "b97c402b",
   "metadata": {},
   "source": [
    "<hr style=\"border:1.3px solid gray\">"
   ]
  },
  {
   "cell_type": "markdown",
   "id": "d06d88a6",
   "metadata": {},
   "source": [
    "## Ternary Operator & Pythonic Conditional Expressions\n",
    "\n",
    "#### Ternary Operators"
   ]
  },
  {
   "cell_type": "code",
   "execution_count": null,
   "id": "9948f668",
   "metadata": {},
   "outputs": [],
   "source": [
    "age = 20\n",
    "\n",
    "# standard if-else\n",
    "if age >= 18:\n",
    "    status = \"Adult\"\n",
    "else:\n",
    "    status = \"Minor\""
   ]
  },
  {
   "cell_type": "code",
   "execution_count": null,
   "id": "ad67e70f",
   "metadata": {},
   "outputs": [],
   "source": [
    "# Ternary Operator\n",
    "status = \"Adult\" if age >= 18 else \"Minor\""
   ]
  },
  {
   "cell_type": "code",
   "execution_count": null,
   "id": "6cafd1eb",
   "metadata": {},
   "outputs": [],
   "source": [
    "# Simple math with ternary\n",
    "max_val =  10 if 5 > 3 else 3\n",
    "print(max_val)"
   ]
  },
  {
   "cell_type": "markdown",
   "id": "5bae24f9",
   "metadata": {},
   "source": [
    "### Key Points\n",
    "- Short form of `if-else`"
   ]
  },
  {
   "cell_type": "markdown",
   "id": "2f998c95",
   "metadata": {},
   "source": [
    "#### Pythonic Conditional Expressions"
   ]
  },
  {
   "cell_type": "code",
   "execution_count": null,
   "id": "5531a90c",
   "metadata": {},
   "outputs": [],
   "source": [
    "# conditional list comprehension\n",
    "nums = [1, 2, 3, 4]\n",
    "a = [\"E\" if n%2 == 0 else \"O\" for n in nums]\n",
    "\n",
    "print(a)"
   ]
  },
  {
   "cell_type": "code",
   "execution_count": null,
   "id": "d8b3276e",
   "metadata": {},
   "outputs": [],
   "source": [
    "# in-line assignment\n",
    "name = \"\"\n",
    "greet = f\"Hello {name if name else 'Guest'}\"\n",
    "greet"
   ]
  },
  {
   "cell_type": "markdown",
   "id": "8f1a3aed",
   "metadata": {},
   "source": [
    "### Key Points\n",
    "-  Combine ternary inside comprehensions\n",
    "- Use for inline assignments\n",
    "- Avoid nesting multiple ternaries"
   ]
  },
  {
   "cell_type": "markdown",
   "id": "9b98aa12",
   "metadata": {},
   "source": [
    "<hr style=\"border:1.3px solid gray\">"
   ]
  },
  {
   "cell_type": "markdown",
   "id": "1ace2e1f",
   "metadata": {},
   "source": [
    "## Iteration with `enumerate`, `zip` and `itertools`\n",
    "\n",
    "#### Looping with `enumerate` and `zip`"
   ]
  },
  {
   "cell_type": "code",
   "execution_count": null,
   "id": "95176e59",
   "metadata": {},
   "outputs": [],
   "source": [
    "# enumerate: index+value\n",
    "fruits = [\"Apple\", \"Cherry\", \"Orange\"]\n",
    "\n",
    "for i, item in enumerate(fruits):\n",
    "    print(f\"{i}: {item}\")"
   ]
  },
  {
   "cell_type": "code",
   "execution_count": null,
   "id": "92ce417e",
   "metadata": {},
   "outputs": [],
   "source": [
    "# zip to pair sequences\n",
    "names = [\"Leo\", \"Max\"]\n",
    "scores = [85, 92]\n",
    "for name, score in zip(names, scores):\n",
    "    print(f\"{name} scored {score}\")"
   ]
  },
  {
   "cell_type": "code",
   "execution_count": null,
   "id": "945cc51a",
   "metadata": {},
   "outputs": [],
   "source": [
    "# unzip with zip(*)\n",
    "paired = list(zip(names, scores))\n",
    "n, s = zip(*paired)\n",
    "print(n,s)"
   ]
  },
  {
   "cell_type": "markdown",
   "id": "4d04f16e",
   "metadata": {},
   "source": [
    "#### Iteration with itertools"
   ]
  },
  {
   "cell_type": "code",
   "execution_count": null,
   "id": "ced6a833",
   "metadata": {},
   "outputs": [],
   "source": [
    "import itertools\n",
    "\n",
    "# Infinite counting\n",
    "mums = itertools.count(start=10, step=2)\n",
    "print(next(mums))"
   ]
  },
  {
   "cell_type": "code",
   "execution_count": null,
   "id": "f93ad215",
   "metadata": {},
   "outputs": [],
   "source": [
    "# Cycle through values\n",
    "cycler = itertools.cycle([\"red\", \"green\"])\n",
    "\n",
    "for _ in range(4):\n",
    "    print(next(cycler))"
   ]
  },
  {
   "cell_type": "code",
   "execution_count": null,
   "id": "64b8e92f",
   "metadata": {},
   "outputs": [],
   "source": [
    "# combinations & permutations\n",
    "nums = [1, 2, 3]\n",
    "print(list(itertools.combinations(nums, 2)))\n",
    "print(list(itertools.permutations(nums, 2)))"
   ]
  },
  {
   "cell_type": "markdown",
   "id": "34608087",
   "metadata": {},
   "source": [
    "### Key Points\n",
    "- `count`, `cycle`, `repeat` to create infinite interators\n",
    "- `combinations & permutations`"
   ]
  },
  {
   "cell_type": "markdown",
   "id": "b3dd596c",
   "metadata": {},
   "source": [
    "<hr style=\"border:1.3px solid gray\">"
   ]
  },
  {
   "cell_type": "markdown",
   "id": "9e305a03",
   "metadata": {},
   "source": [
    "## Functions Deep Dive: `*args`, `**kwargs` and Unpacking\n",
    "\n",
    "#### Flexible Function Arguments"
   ]
  },
  {
   "cell_type": "code",
   "execution_count": null,
   "id": "922dce51",
   "metadata": {},
   "outputs": [],
   "source": [
    "# *args: variable positional argument\n",
    "def add_all(*nums):\n",
    "    return sum(nums)\n",
    "\n",
    "print(add_all(1, 2, 3, 4))"
   ]
  },
  {
   "cell_type": "code",
   "execution_count": null,
   "id": "2b653427",
   "metadata": {},
   "outputs": [],
   "source": [
    "# **kwargs: variable keyword argument\n",
    "def show_info(**details):\n",
    "    for i, v in details.items():\n",
    "        print(f\"{i}: {v}\")\n",
    "        \n",
    "show_info(name=\"Alice\", age=30)"
   ]
  },
  {
   "cell_type": "markdown",
   "id": "fbf0a38f",
   "metadata": {},
   "source": [
    "### Key Points\n",
    "- `*args` for variable positional arguments\n",
    "- `**kwargs` for variable keyword arguments"
   ]
  },
  {
   "cell_type": "markdown",
   "id": "7b882ee6",
   "metadata": {},
   "source": [
    "#### Argument Unpacking & Mixing"
   ]
  },
  {
   "cell_type": "code",
   "execution_count": null,
   "id": "842ba917",
   "metadata": {},
   "outputs": [],
   "source": [
    "# Unpacking \n",
    "nums = [3, 5, 7]\n",
    "print(add_all(*nums))"
   ]
  },
  {
   "cell_type": "code",
   "execution_count": null,
   "id": "9aa48e65",
   "metadata": {},
   "outputs": [],
   "source": [
    "# Unpacking dicts into **kwargs\n",
    "info = {\"Name\": \"Bob\", \"Age\":25}\n",
    "show_info(**info)"
   ]
  },
  {
   "cell_type": "code",
   "execution_count": null,
   "id": "d59019aa",
   "metadata": {},
   "outputs": [],
   "source": [
    "# Mixing all types\n",
    "def greet(greeting, *names, **extra):\n",
    "    for n in names:\n",
    "        print(f\"{greeting}, {n}\")\n",
    "    print(extra)\n",
    "\n",
    "greet(\"Hi\", \"Alice\", \"Eve\", mood=\"Alice\")"
   ]
  },
  {
   "cell_type": "markdown",
   "id": "2eee1bb8",
   "metadata": {},
   "source": [
    "<hr style=\"border:1.3px solid gray\">"
   ]
  },
  {
   "cell_type": "markdown",
   "id": "1774220e",
   "metadata": {},
   "source": [
    "## Lambda Functions & Functional Python\n",
    "#### Lambda (Anonymous) Functions"
   ]
  },
  {
   "cell_type": "code",
   "execution_count": null,
   "id": "a3fdb7d3",
   "metadata": {},
   "outputs": [],
   "source": [
    "# Regular function\n",
    "def square(x):\n",
    "    return x**2"
   ]
  },
  {
   "cell_type": "code",
   "execution_count": null,
   "id": "392488e9",
   "metadata": {},
   "outputs": [],
   "source": [
    "# Lambda equivalent\n",
    "square_lambda = lambda x: x**2\n",
    "print(square_lambda(5))"
   ]
  },
  {
   "cell_type": "code",
   "execution_count": null,
   "id": "5a1b6e5e",
   "metadata": {},
   "outputs": [],
   "source": [
    "# Sorting with lambda\n",
    "items = [(1,\"Asus\"), (3,\"HP\"), (2,\"Dell\")]\n",
    "items.sort(key=lambda x: x[0])\n",
    "print(items)"
   ]
  },
  {
   "cell_type": "markdown",
   "id": "f8604cb6",
   "metadata": {},
   "source": [
    "### Key Points:\n",
    "- Short in-line functions without `def`\n",
    "- Best for simple, one-time use"
   ]
  },
  {
   "cell_type": "markdown",
   "id": "cc39f28f",
   "metadata": {},
   "source": [
    "#### `map`, `filter` and `reduce`"
   ]
  },
  {
   "cell_type": "code",
   "execution_count": null,
   "id": "d8598225",
   "metadata": {},
   "outputs": [],
   "source": [
    "nums = [1, 2, 3, 4]\n",
    "\n",
    "# map: square all numbers\n",
    "squares = list(map(lambda x: x**2, nums))\n",
    "print(squares)"
   ]
  },
  {
   "cell_type": "code",
   "execution_count": null,
   "id": "1f1f2e64",
   "metadata": {},
   "outputs": [],
   "source": [
    "# filter: keep even numbers\n",
    "evs = list(filter(lambda x: x%2 == 0,nums))\n",
    "print(evs)"
   ]
  },
  {
   "cell_type": "code",
   "execution_count": null,
   "id": "763f4700",
   "metadata": {},
   "outputs": [],
   "source": [
    "from functools import reduce\n",
    "\n",
    "# reduce: product of all numbers\n",
    "product = reduce(lambda a, b: a*b,nums)\n",
    "print(product)"
   ]
  },
  {
   "cell_type": "markdown",
   "id": "9b9544ea",
   "metadata": {},
   "source": [
    "### Key Points:\n",
    "- `map()` : apply function to all items\n",
    "- `filter()`: keep items if condition is true\n",
    "- `reduce()`: accumulate to single value"
   ]
  },
  {
   "cell_type": "markdown",
   "id": "4755f55a",
   "metadata": {},
   "source": [
    "<hr style=\"border:1.3px solid gray\">"
   ]
  },
  {
   "cell_type": "markdown",
   "id": "075b67b8",
   "metadata": {},
   "source": [
    "## Decorators: Modifying Functions"
   ]
  },
  {
   "cell_type": "markdown",
   "id": "2b547e54",
   "metadata": {},
   "source": [
    "#### What are Decorators?"
   ]
  },
  {
   "cell_type": "code",
   "execution_count": null,
   "id": "c83e6098",
   "metadata": {},
   "outputs": [],
   "source": [
    "# Basic decorator structure\n",
    "def my_decorator(func):\n",
    "    def wrapper():\n",
    "        print(\"Before function runs\")\n",
    "        func()\n",
    "        print(\"After function runs\")\n",
    "    return wrapper"
   ]
  },
  {
   "cell_type": "code",
   "execution_count": null,
   "id": "b2c374af",
   "metadata": {},
   "outputs": [],
   "source": [
    "@my_decorator\n",
    "def say_hello():\n",
    "    print(\"Hello\")\n",
    "\n",
    "say_hello()"
   ]
  },
  {
   "cell_type": "markdown",
   "id": "3d1ce9dd",
   "metadata": {},
   "source": [
    "### Key Points:\n",
    "- Wrap functions to add extra behaviour"
   ]
  },
  {
   "cell_type": "markdown",
   "id": "464d0bc5",
   "metadata": {},
   "source": [
    "#### Decorators with Arguments"
   ]
  },
  {
   "cell_type": "code",
   "execution_count": null,
   "id": "f4928cf4",
   "metadata": {},
   "outputs": [],
   "source": [
    "import time\n",
    "\n",
    "def timer(func):\n",
    "    def wrapper(*args, **kwargs):\n",
    "        start = time.time()\n",
    "        result = func(*args, **kwargs)\n",
    "        print(f\"Exec. time: {time.time() - start:.4f}s\")\n",
    "        return result\n",
    "    return wrapper"
   ]
  },
  {
   "cell_type": "code",
   "execution_count": null,
   "id": "9e7a5bac",
   "metadata": {},
   "outputs": [],
   "source": [
    "@timer\n",
    "def slow_add(a, b):\n",
    "    time.sleep(1)\n",
    "    return a + b\n",
    "    \n",
    "print(slow_add(3, 5))"
   ]
  },
  {
   "cell_type": "markdown",
   "id": "516e1e80",
   "metadata": {},
   "source": [
    "### Key Points:\n",
    "- Use `*args` and `**kwargs` for flexible parameters"
   ]
  },
  {
   "cell_type": "markdown",
   "id": "059ec2a2",
   "metadata": {},
   "source": [
    "<hr style=\"border:1.3px solid gray\">"
   ]
  },
  {
   "cell_type": "markdown",
   "id": "0e6ad178",
   "metadata": {},
   "source": [
    "## Generators and `yield`\n",
    "#### Generator Functions"
   ]
  },
  {
   "cell_type": "code",
   "execution_count": null,
   "id": "ea5e9806",
   "metadata": {},
   "outputs": [],
   "source": [
    "# Generator function\n",
    "def count_up_to(n):\n",
    "    count = 1\n",
    "    while count <= n:\n",
    "        yield count\n",
    "        count += 1"
   ]
  },
  {
   "cell_type": "code",
   "execution_count": null,
   "id": "a504feed",
   "metadata": {},
   "outputs": [],
   "source": [
    "# Create generator object\n",
    "gen = count_up_to(3)\n",
    "\n",
    "# Iterate using for loop\n",
    "for num in gen:\n",
    "    print(num)"
   ]
  },
  {
   "cell_type": "markdown",
   "id": "255e7f71",
   "metadata": {},
   "source": [
    "### Key Points:\n",
    "- `yield` pauses the function and saves state\n",
    "- Returns a generator object\n",
    "- Resumes from last yield point"
   ]
  },
  {
   "cell_type": "markdown",
   "id": "d2d9e441",
   "metadata": {},
   "source": [
    "#### Generator Expressions"
   ]
  },
  {
   "cell_type": "code",
   "execution_count": null,
   "id": "590cd1f2",
   "metadata": {},
   "outputs": [],
   "source": [
    "# Create generator object\n",
    "squares_gen = (x*x for x in range(5))"
   ]
  },
  {
   "cell_type": "code",
   "execution_count": null,
   "id": "478558d1",
   "metadata": {},
   "outputs": [],
   "source": [
    "# Access values one at a time\n",
    "print(next(squares_gen))\n",
    "print(next(squares_gen))"
   ]
  },
  {
   "cell_type": "code",
   "execution_count": null,
   "id": "5e068026",
   "metadata": {},
   "outputs": [],
   "source": [
    "# Continue iterating\n",
    "for square in squares_gen:\n",
    "    print(square)"
   ]
  },
  {
   "cell_type": "markdown",
   "id": "be29741d",
   "metadata": {},
   "source": [
    "### Key Points:\n",
    "- Uses `()` instead of `[]`\n",
    "- Does not store full list in memory\n",
    "- Can be passed to `next()` or iterated"
   ]
  },
  {
   "cell_type": "markdown",
   "id": "cd3d4ab2",
   "metadata": {},
   "source": [
    "<hr style=\"border:1.3px solid gray\">"
   ]
  },
  {
   "cell_type": "markdown",
   "id": "090fe90b",
   "metadata": {},
   "source": [
    "## Classes: Basics and Objects\n",
    "#### Class Basics"
   ]
  },
  {
   "cell_type": "code",
   "execution_count": null,
   "id": "93f72450",
   "metadata": {},
   "outputs": [],
   "source": [
    "class Empty:\n",
    "    pass\n",
    "\n",
    "obj = Empty()"
   ]
  },
  {
   "cell_type": "code",
   "execution_count": null,
   "id": "a1894423",
   "metadata": {
    "scrolled": true
   },
   "outputs": [],
   "source": [
    "# Add attributes dynamically\n",
    "obj.name = \"Sample\"\n",
    "obj.value = 105"
   ]
  },
  {
   "cell_type": "code",
   "execution_count": null,
   "id": "a9ce4194",
   "metadata": {},
   "outputs": [],
   "source": [
    "# Access attributes\n",
    "print(obj.name)\n",
    "print(obj.value)"
   ]
  },
  {
   "cell_type": "code",
   "execution_count": null,
   "id": "d41d0756",
   "metadata": {},
   "outputs": [],
   "source": [
    "isinstance(obj, Empty)"
   ]
  },
  {
   "cell_type": "markdown",
   "id": "9b9d915a",
   "metadata": {},
   "source": [
    "### Key Points:\n",
    "- `class` defines a blueprint\n",
    "- Objects can have attributes added anytime"
   ]
  },
  {
   "cell_type": "markdown",
   "id": "97c8c0fb",
   "metadata": {},
   "source": [
    "#### `init` Constructor and Objects"
   ]
  },
  {
   "cell_type": "code",
   "execution_count": null,
   "id": "88a181d1",
   "metadata": {},
   "outputs": [],
   "source": [
    "class Person:\n",
    "    # Constructor with attributes\n",
    "    def __init__(self, name, age):\n",
    "        self.name = name\n",
    "        self.age = age"
   ]
  },
  {
   "cell_type": "code",
   "execution_count": null,
   "id": "04a4ee5a",
   "metadata": {},
   "outputs": [],
   "source": [
    "p1 = Person(\"Marie\", 32)\n",
    "p2 = Person(\"Bob\", 25)"
   ]
  },
  {
   "cell_type": "code",
   "execution_count": null,
   "id": "1ff2f4a7",
   "metadata": {},
   "outputs": [],
   "source": [
    "print(p1.name, p1.age)"
   ]
  },
  {
   "cell_type": "code",
   "execution_count": null,
   "id": "c71ead2f",
   "metadata": {},
   "outputs": [],
   "source": [
    "p1.age = 31\n",
    "p1.country = \"Germany\""
   ]
  },
  {
   "cell_type": "markdown",
   "id": "984d9f7a",
   "metadata": {},
   "source": [
    "### Key Points:\n",
    "- `__init__` runs automatically at object creation\n",
    "- `self` binds data to each individual object\n",
    "- Objects are flexible"
   ]
  },
  {
   "cell_type": "markdown",
   "id": "2e092e1e",
   "metadata": {},
   "source": [
    "<hr style=\"border:1.3px solid gray\">"
   ]
  },
  {
   "cell_type": "markdown",
   "id": "0329c6ff",
   "metadata": {},
   "source": [
    "## Methods and Inheritence\n",
    "#### Instance Methods and Class Attributes"
   ]
  },
  {
   "cell_type": "code",
   "execution_count": null,
   "id": "7ebbd61b",
   "metadata": {},
   "outputs": [],
   "source": [
    "class Person:\n",
    "    Species = \"Human\"\n",
    "    \n",
    "    def __init__(self, name):\n",
    "        self.name = name\n",
    "    \n",
    "    def greet(self):\n",
    "        return f\"Hi, I'm {self.name}\"\n",
    "    \n",
    "    def change_name(self, new_name):\n",
    "        self.name = new_name"
   ]
  },
  {
   "cell_type": "code",
   "execution_count": null,
   "id": "8064f5cf",
   "metadata": {},
   "outputs": [],
   "source": [
    "p1 = Person(\"Meghan\")\n",
    "print(p1.greet())"
   ]
  },
  {
   "cell_type": "code",
   "execution_count": null,
   "id": "14a6c3c3",
   "metadata": {},
   "outputs": [],
   "source": [
    "p1.change_name(\"Mila\")\n",
    "print(p1.greet())"
   ]
  },
  {
   "cell_type": "markdown",
   "id": "08a49176",
   "metadata": {},
   "source": [
    "## Key Points:\n",
    "- Instance methods operate on individual objects\n",
    "- Class attributes are shared across all instances"
   ]
  },
  {
   "cell_type": "markdown",
   "id": "87c80d86",
   "metadata": {},
   "source": [
    "#### Inheritence` "
   ]
  },
  {
   "cell_type": "code",
   "execution_count": null,
   "id": "5474537f",
   "metadata": {},
   "outputs": [],
   "source": [
    "class Student(Person):\n",
    "    def __init__(self, name, grade):\n",
    "        super().__init__(name)\n",
    "        self.grade = grade\n",
    "        \n",
    "    # new method\n",
    "    def get_grade(self):\n",
    "        return f\"{super().greet()} in grade {self.grade}\""
   ]
  },
  {
   "cell_type": "code",
   "execution_count": null,
   "id": "b1a736c9",
   "metadata": {},
   "outputs": [],
   "source": [
    "s1= Student(\"Tom\", 9)\n",
    "print(s1.greet())"
   ]
  },
  {
   "cell_type": "code",
   "execution_count": null,
   "id": "ac900ce3",
   "metadata": {},
   "outputs": [],
   "source": [
    "# Parent attributes&methods still available\n",
    "print(s1.Species)"
   ]
  },
  {
   "cell_type": "code",
   "execution_count": null,
   "id": "3bf5d9f4",
   "metadata": {},
   "outputs": [],
   "source": [
    "print(s1.get_grade())"
   ]
  },
  {
   "cell_type": "markdown",
   "id": "7e4d434f",
   "metadata": {},
   "source": [
    "## Key Points:\n",
    "- Inheritence lets you reuse parent code"
   ]
  },
  {
   "cell_type": "markdown",
   "id": "036427a2",
   "metadata": {},
   "source": [
    "<hr style=\"border:1.3px solid gray\">"
   ]
  },
  {
   "cell_type": "markdown",
   "id": "3fff1091",
   "metadata": {},
   "source": [
    "## Operator Overloading"
   ]
  },
  {
   "cell_type": "markdown",
   "id": "72560229",
   "metadata": {},
   "source": [
    "#### What is Operator Overloading"
   ]
  },
  {
   "cell_type": "code",
   "execution_count": null,
   "id": "03a0c6f0",
   "metadata": {},
   "outputs": [],
   "source": [
    "class Vector:\n",
    "    \n",
    "    def __init__(self, x, y):\n",
    "        self.x = x\n",
    "        self.y = y\n",
    "        \n",
    "    def __add__(self, other):\n",
    "        return Vector(self.x + other.x, self.y + other.y)\n",
    "    \n",
    "    def __str__(self):\n",
    "        return f\"{self.x}, {self.y}\""
   ]
  },
  {
   "cell_type": "code",
   "execution_count": null,
   "id": "0cb31d4e",
   "metadata": {},
   "outputs": [],
   "source": [
    "v1 = Vector(2, 3)\n",
    "v2 = Vector(2, 3)\n",
    "print(v1+v2)"
   ]
  },
  {
   "cell_type": "markdown",
   "id": "6819bcaa",
   "metadata": {},
   "source": [
    "## Key Points:\n",
    "\n",
    "- Operator overloading makes custom classes act like built-in types."
   ]
  },
  {
   "cell_type": "markdown",
   "id": "b4511b82",
   "metadata": {},
   "source": [
    "#### Other Useful Operators"
   ]
  },
  {
   "cell_type": "code",
   "execution_count": null,
   "id": "37957244",
   "metadata": {},
   "outputs": [],
   "source": [
    "class Box:\n",
    "    def __init__(self, items):\n",
    "        self.items = items\n",
    "    \n",
    "    def __len__(self):\n",
    "        return len(self.items)\n",
    "    \n",
    "    def __eq__(self, other):\n",
    "        return self.items == other.items"
   ]
  },
  {
   "cell_type": "code",
   "execution_count": null,
   "id": "6fa6fc06",
   "metadata": {},
   "outputs": [],
   "source": [
    "b1 = Box([1, 2, 3])\n",
    "b2 = Box([4, 5, 6])\n",
    "print(len(b1))\n",
    "print(b1 == b2)"
   ]
  },
  {
   "cell_type": "markdown",
   "id": "34815d25",
   "metadata": {},
   "source": [
    "### Key Points:\n",
    "- Comparison methods (`__lt__`, `__eq__`, etc.)\n",
    "- Length & truthiness (`__len__`, `__bool__`)"
   ]
  },
  {
   "cell_type": "markdown",
   "id": "ed9be1d6",
   "metadata": {},
   "source": [
    "<hr style=\"border:1.3px solid gray\">"
   ]
  },
  {
   "cell_type": "markdown",
   "id": "f209cdb6",
   "metadata": {},
   "source": [
    "## Errors and Exceptions in Python\n",
    "#### Common Errors"
   ]
  },
  {
   "cell_type": "code",
   "execution_count": null,
   "id": "f1d7b430",
   "metadata": {},
   "outputs": [],
   "source": [
    "# SyntaxError: invalid syntax\n",
    "if True print(\"Hi\")"
   ]
  },
  {
   "cell_type": "code",
   "execution_count": null,
   "id": "5f0a7111",
   "metadata": {},
   "outputs": [],
   "source": [
    "# NameError: name 'xx' is not defined\n",
    "print(xx)"
   ]
  },
  {
   "cell_type": "code",
   "execution_count": null,
   "id": "9ceb001f",
   "metadata": {},
   "outputs": [],
   "source": [
    "# TypeError: wrong data type operation\n",
    "\"2\" + 3"
   ]
  },
  {
   "cell_type": "code",
   "execution_count": null,
   "id": "c1a7baa9",
   "metadata": {},
   "outputs": [],
   "source": [
    "# IndexError: index out of range\n",
    "nums = [1, 2]\n",
    "print(nums[5])"
   ]
  },
  {
   "cell_type": "markdown",
   "id": "fff50d7c",
   "metadata": {},
   "source": [
    "### Key Points:\n",
    "\n",
    "- Errors stop program execution\n",
    "- Learn to read traceback messages."
   ]
  },
  {
   "cell_type": "markdown",
   "id": "c53b8594",
   "metadata": {},
   "source": [
    "#### Handling Exceptions"
   ]
  },
  {
   "cell_type": "code",
   "execution_count": null,
   "id": "c0cd62da",
   "metadata": {},
   "outputs": [],
   "source": [
    "# basic try/except\n",
    "try:\n",
    "    x = int(\"abc\")\n",
    "except ValueError:\n",
    "    print(\"Not a valid number\")"
   ]
  },
  {
   "cell_type": "code",
   "execution_count": null,
   "id": "c0f6899a",
   "metadata": {},
   "outputs": [],
   "source": [
    "# finally&else\n",
    "try:\n",
    "    num = int(1/0)\n",
    "except ZeroDivisionError:\n",
    "    print(\"Division by zero is not allowed\")\n",
    "else:\n",
    "    print(\"Conversion OK:\", num)\n",
    "finally:\n",
    "    print(\"Done!\")"
   ]
  },
  {
   "cell_type": "markdown",
   "id": "0078efe5",
   "metadata": {},
   "source": [
    "### Key Points:\n",
    "- use `try/except` to handle runtime errors\n",
    "- `else` runs `if` no error; `finally` runs always"
   ]
  },
  {
   "cell_type": "markdown",
   "id": "2e7f5dbd",
   "metadata": {},
   "source": [
    "<hr style=\"border:1.3px solid gray\">"
   ]
  },
  {
   "cell_type": "markdown",
   "id": "28fe077e",
   "metadata": {},
   "source": [
    "## Typing & Type Hints\n",
    "#### Why Use Type Hints?"
   ]
  },
  {
   "cell_type": "code",
   "execution_count": null,
   "id": "0de89164",
   "metadata": {},
   "outputs": [],
   "source": [
    "# Function without a type hints\n",
    "def add(a, b):\n",
    "    return a+b"
   ]
  },
  {
   "cell_type": "code",
   "execution_count": null,
   "id": "dfe5bd96",
   "metadata": {},
   "outputs": [],
   "source": [
    "# with type hints\n",
    "def add_typed(a: int, b: int) -> int:\n",
    "    return a + b"
   ]
  },
  {
   "cell_type": "code",
   "execution_count": null,
   "id": "ff60d579",
   "metadata": {},
   "outputs": [],
   "source": [
    "print(add_typed(3, 5))\n",
    "print(add_typed(\"3\", 5))"
   ]
  },
  {
   "cell_type": "markdown",
   "id": "90d26c68",
   "metadata": {},
   "source": [
    "### Key Points:\n",
    "- Improve code readability & documentation\n",
    "- Help IDEs detect type mismatches\n",
    "- Python remains dynamically typed"
   ]
  },
  {
   "cell_type": "markdown",
   "id": "279a2a55",
   "metadata": {},
   "source": [
    "#### Advanced Typing Features"
   ]
  },
  {
   "cell_type": "code",
   "execution_count": null,
   "id": "dce29536",
   "metadata": {},
   "outputs": [],
   "source": [
    "from typing import List, Dict, Optional"
   ]
  },
  {
   "cell_type": "code",
   "execution_count": null,
   "id": "01c5d4fb",
   "metadata": {},
   "outputs": [],
   "source": [
    "# List & Dict typing\n",
    "def scores(s: List[int]) -> Dict[str, float]:\n",
    "    return {\"avg\": sum(s)/len(s)}\n",
    "print(scores([80, 90, 100]))"
   ]
  },
  {
   "cell_type": "code",
   "execution_count": null,
   "id": "c14a5f43",
   "metadata": {},
   "outputs": [],
   "source": [
    "# Optional type\n",
    "def greet(name: Optional[str] = None)-> str:\n",
    "    return f\"Hello {name or 'Guest'}\"\n",
    "\n",
    "print(greet())\n",
    "print(greet(\"Alice\"))"
   ]
  },
  {
   "cell_type": "markdown",
   "id": "e097ccd6",
   "metadata": {},
   "source": [
    "### Key Points:\n",
    "- use List, Dict, Tuple, Optional for complex types"
   ]
  },
  {
   "cell_type": "markdown",
   "id": "01c66064",
   "metadata": {},
   "source": [
    "<hr style=\"border:1.3px solid gray\">"
   ]
  },
  {
   "cell_type": "markdown",
   "id": "29d4da61",
   "metadata": {},
   "source": [
    "## Regular Expressions (RegEx)"
   ]
  },
  {
   "cell_type": "code",
   "execution_count": null,
   "id": "320e4c69",
   "metadata": {},
   "outputs": [],
   "source": [
    "import re\n",
    "\n",
    "text = \"My Phone: 123-456-7890\""
   ]
  },
  {
   "cell_type": "code",
   "execution_count": null,
   "id": "2416a275",
   "metadata": {},
   "outputs": [],
   "source": [
    "# Find all numbers\n",
    "nums = re.findall(r\"\\d+\", text)\n",
    "print(nums)"
   ]
  },
  {
   "cell_type": "code",
   "execution_count": null,
   "id": "5edae3e5",
   "metadata": {},
   "outputs": [],
   "source": [
    "# check if text starts with \"My\"\n",
    "print(bool(re.match(r\"My\", text)))"
   ]
  },
  {
   "cell_type": "code",
   "execution_count": null,
   "id": "88d12844",
   "metadata": {},
   "outputs": [],
   "source": [
    "# replace digits with X\n",
    "masked = re.sub(r\"\\d+\", \"X\", text)\n",
    "masked"
   ]
  },
  {
   "cell_type": "markdown",
   "id": "63a26596",
   "metadata": {},
   "source": [
    "### Key Points:\n",
    "- Use re module for text searching\n",
    "- findall -> find all matchies\n",
    "- sub -> replace text patterns "
   ]
  },
  {
   "cell_type": "markdown",
   "id": "bfbc388d",
   "metadata": {},
   "source": [
    "#### Group & Simple Extraction"
   ]
  },
  {
   "cell_type": "code",
   "execution_count": null,
   "id": "41fab974",
   "metadata": {},
   "outputs": [],
   "source": [
    "text = \"Email: Bob@example.com\""
   ]
  },
  {
   "cell_type": "code",
   "execution_count": null,
   "id": "234b6cb8",
   "metadata": {},
   "outputs": [],
   "source": [
    "# Extract username & domain\n",
    "m = re.search(r\"(\\w+)@(\\w+\\.\\w+)\" ,text)\n",
    "if m:\n",
    "    print(\"User:\", m.group(1))\n",
    "    print(\"Domain:\", m.group(2))"
   ]
  },
  {
   "cell_type": "code",
   "execution_count": null,
   "id": "00384972",
   "metadata": {},
   "outputs": [],
   "source": [
    "# Split text by non-word characters\n",
    "words = re.split(r\"\\w+\", text)\n",
    "print(words)"
   ]
  },
  {
   "cell_type": "markdown",
   "id": "00a0cb69",
   "metadata": {},
   "source": [
    "### Key Points:\n",
    "- Groups capture parts of a match\n",
    "- `search` finds the first match\n",
    "- Use raw strings `r““` to avoid escape issues"
   ]
  },
  {
   "cell_type": "markdown",
   "id": "e3289e0d",
   "metadata": {},
   "source": [
    "<hr style=\"border:1.3px solid gray\">"
   ]
  },
  {
   "cell_type": "markdown",
   "id": "d7e33467",
   "metadata": {},
   "source": [
    "## Introspection & Metaprogramming"
   ]
  },
  {
   "cell_type": "code",
   "execution_count": null,
   "id": "fe0bcba6",
   "metadata": {},
   "outputs": [],
   "source": [
    "class User:\n",
    "    \n",
    "    def __init__(self, name):\n",
    "        self.name = name\n",
    "    \n",
    "    def greet(self):\n",
    "        print(f\"Hi {self.name}\")\n",
    "        \n",
    "u = User(\"Samira\")"
   ]
  },
  {
   "cell_type": "code",
   "execution_count": null,
   "id": "843a8498",
   "metadata": {},
   "outputs": [],
   "source": [
    "# dir() -> all attributes&methods\n",
    "print(dir(u))"
   ]
  },
  {
   "cell_type": "code",
   "execution_count": null,
   "id": "b76a6348",
   "metadata": {},
   "outputs": [],
   "source": [
    "# getattr() -> dynamic attribute access\n",
    "print(getattr(u, \"name\"))"
   ]
  },
  {
   "cell_type": "code",
   "execution_count": null,
   "id": "212c092c",
   "metadata": {},
   "outputs": [],
   "source": [
    "# setattr() -> modify at runtime\n",
    "setattr(u, \"name\", \"Bob\")"
   ]
  },
  {
   "cell_type": "markdown",
   "id": "8a10ba95",
   "metadata": {},
   "source": [
    "### Key Points:\n",
    "- Inspect objects at runtime\n",
    "- Modify attributes on the fly"
   ]
  },
  {
   "cell_type": "markdown",
   "id": "d0a23df2",
   "metadata": {},
   "source": [
    "#### Inspect and Metaclasses"
   ]
  },
  {
   "cell_type": "code",
   "execution_count": null,
   "id": "38f4c690",
   "metadata": {},
   "outputs": [],
   "source": [
    "import inspect as ins"
   ]
  },
  {
   "cell_type": "code",
   "execution_count": null,
   "id": "5c3080b7",
   "metadata": {},
   "outputs": [],
   "source": [
    "# Inspecting class member\n",
    "print(ins.getmembers(User,ins.isfunction))"
   ]
  },
  {
   "cell_type": "code",
   "execution_count": null,
   "id": "80c505ba",
   "metadata": {},
   "outputs": [],
   "source": [
    "# Inspecting function signature\n",
    "sig = ins.signature(User.greet)\n",
    "print(sig)"
   ]
  },
  {
   "cell_type": "code",
   "execution_count": null,
   "id": "06733595",
   "metadata": {},
   "outputs": [],
   "source": [
    "# Simple metaclass example\n",
    "Meta = type(\"Meta\", (), {\"x\": 42})\n",
    "obj = Meta()\n",
    "print(obj.x)"
   ]
  },
  {
   "cell_type": "markdown",
   "id": "e65dea8b",
   "metadata": {},
   "source": [
    "### Key Points:\n",
    "- inspect reveals classes, methods, and signatures\n",
    "- Useful for debugging & dynamic frameworks\n",
    "- Metaclasses control class creation"
   ]
  },
  {
   "cell_type": "markdown",
   "id": "92604606",
   "metadata": {},
   "source": [
    "<hr style=\"border:1.3px solid gray\">"
   ]
  },
  {
   "cell_type": "code",
   "execution_count": null,
   "id": "1757d54b",
   "metadata": {},
   "outputs": [],
   "source": []
  }
 ],
 "metadata": {
  "kernelspec": {
   "display_name": "Python 3 (ipykernel)",
   "language": "python",
   "name": "python3"
  },
  "language_info": {
   "codemirror_mode": {
    "name": "ipython",
    "version": 3
   },
   "file_extension": ".py",
   "mimetype": "text/x-python",
   "name": "python",
   "nbconvert_exporter": "python",
   "pygments_lexer": "ipython3",
   "version": "3.12.10"
  }
 },
 "nbformat": 4,
 "nbformat_minor": 5
}
