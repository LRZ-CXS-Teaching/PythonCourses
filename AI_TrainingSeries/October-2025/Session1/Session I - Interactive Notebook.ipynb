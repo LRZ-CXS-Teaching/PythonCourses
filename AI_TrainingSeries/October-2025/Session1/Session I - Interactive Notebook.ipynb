{
 "cells": [
  {
   "cell_type": "markdown",
   "id": "f702946c",
   "metadata": {},
   "source": [
    "<p style='text-align: right;'> Dr. Birkan Emrem </p>\n",
    "<p style='text-align: right;'> 16.10.2025 </p>\n",
    "<p style='text-align: right;'> AI Training Series: Python Refresher: Session I </p>"
   ]
  },
  {
   "cell_type": "markdown",
   "id": "fc1e9910",
   "metadata": {},
   "source": [
    "# Core Python - Fundamentals\n",
    "## Python Syntax Essentials"
   ]
  },
  {
   "cell_type": "markdown",
   "id": "06ca6974",
   "metadata": {},
   "source": [
    "#### Indentation & Code blocks"
   ]
  },
  {
   "cell_type": "code",
   "execution_count": null,
   "id": "f2feb811",
   "metadata": {},
   "outputs": [],
   "source": [
    "score = 86\n",
    "if score > 80:\n",
    "    print(\"Excellent\")\n",
    "else:\n",
    "    print(\"Keep improving\")"
   ]
  },
  {
   "cell_type": "markdown",
   "id": "e83beda5",
   "metadata": {},
   "source": [
    "#### Key Points\n",
    "- No `{}` or `endif`\n",
    "- Use colons `:` after statements like `if`, `for`, `while`, `def` and `class`\n",
    "- 4-space identation (Consistent identation is critical)"
   ]
  },
  {
   "cell_type": "markdown",
   "id": "ce735d7b",
   "metadata": {},
   "source": [
    "#### Semicolons"
   ]
  },
  {
   "cell_type": "code",
   "execution_count": null,
   "id": "23c6becc",
   "metadata": {},
   "outputs": [],
   "source": [
    "# code block"
   ]
  },
  {
   "cell_type": "markdown",
   "id": "f31ed2e3",
   "metadata": {},
   "source": [
    "- Semicolons are optional and not recommended\n",
    "\n",
    "#### Best Practices\n",
    "- Use consistent identation\n",
    "- Prefer readability over cleverness\n",
    "- Avoid unnecessary use of semicolons"
   ]
  },
  {
   "cell_type": "markdown",
   "id": "301b2420",
   "metadata": {},
   "source": [
    "<hr style=\"border:1.3px solid gray\">"
   ]
  },
  {
   "cell_type": "markdown",
   "id": "56580fd6",
   "metadata": {},
   "source": [
    "## Variables and Assignment\n",
    "\n",
    "Python is a dynamically typed language"
   ]
  },
  {
   "cell_type": "code",
   "execution_count": null,
   "id": "4e1bed4b",
   "metadata": {},
   "outputs": [],
   "source": [
    "# code block"
   ]
  },
  {
   "cell_type": "markdown",
   "id": "2f26f9f5",
   "metadata": {},
   "source": [
    "- Avoid using Python keywords as variable names\n",
    "- Use descriptive variable names\n",
    "- Variable names must begin with a letter or `_`"
   ]
  },
  {
   "cell_type": "code",
   "execution_count": null,
   "id": "b52bb3c2",
   "metadata": {},
   "outputs": [],
   "source": [
    "# Multiple Assignment & Swapping Values\n",
    "x, y = 10, 20\n",
    "a, b = 1, 2\n",
    "a, b = b, a"
   ]
  },
  {
   "cell_type": "markdown",
   "id": "8423fc09",
   "metadata": {},
   "source": [
    "#### Dynamic Typing"
   ]
  },
  {
   "cell_type": "markdown",
   "id": "83c56e8f",
   "metadata": {},
   "source": [
    "| **Type** | **Example** |\n",
    "| --- | --- |\n",
    "| `int` | 47 |\n",
    "| `float` | 3.14 |\n",
    "| `str` | \"Hello\" |\n",
    "| `bool` | True, False |\n",
    "| `None` | None |"
   ]
  },
  {
   "cell_type": "markdown",
   "id": "3a7cfcf3",
   "metadata": {},
   "source": [
    "use `type()` function to check data type"
   ]
  },
  {
   "cell_type": "code",
   "execution_count": null,
   "id": "febbbc44",
   "metadata": {},
   "outputs": [],
   "source": [
    "print(type(name))\n",
    "print(type(score))\n",
    "print(type(wage))"
   ]
  },
  {
   "cell_type": "markdown",
   "id": "3e74c1be",
   "metadata": {},
   "source": [
    "<hr style=\"border:1.3px solid gray\">"
   ]
  },
  {
   "cell_type": "markdown",
   "id": "8077600d",
   "metadata": {},
   "source": [
    "## Python Keywords"
   ]
  },
  {
   "cell_type": "markdown",
   "id": "075fe1a8",
   "metadata": {},
   "source": [
    "```python\n",
    "and       def        global        not           with\n",
    "as        del        if            or            yield\n",
    "assert    elif       import        pass\n",
    "async     else       in            raise\n",
    "await     except     is            return\n",
    "break     False      lambda        True\n",
    "case      finally    match         try\n",
    "class     for        None          type\n",
    "continue  from       nonlocal      while\n",
    "```"
   ]
  },
  {
   "cell_type": "markdown",
   "id": "4d51c3ae",
   "metadata": {},
   "source": [
    "<hr style=\"border:1.3px solid gray\">"
   ]
  },
  {
   "cell_type": "markdown",
   "id": "cb951c42",
   "metadata": {},
   "source": [
    "## Core Objects: Strings"
   ]
  },
  {
   "cell_type": "markdown",
   "id": "9a52e11b",
   "metadata": {},
   "source": [
    "#### Basics, Indexing and Operations"
   ]
  },
  {
   "cell_type": "code",
   "execution_count": null,
   "id": "d79e7336",
   "metadata": {},
   "outputs": [],
   "source": [
    "# code block"
   ]
  },
  {
   "cell_type": "code",
   "execution_count": null,
   "id": "4fafef9d",
   "metadata": {},
   "outputs": [],
   "source": [
    "# Membership and repetition\n",
    "print(\"Python\" in s1)\n",
    "print(\"Java\" not in s1)\n",
    "print(s1 * 3)"
   ]
  },
  {
   "cell_type": "code",
   "execution_count": null,
   "id": "674041cf",
   "metadata": {},
   "outputs": [],
   "source": [
    "# Concatenation\n",
    "s2 = \" Welcome\"\n",
    "s1 + s2"
   ]
  },
  {
   "cell_type": "markdown",
   "id": "e4440a71",
   "metadata": {},
   "source": [
    "#### Key Points\n",
    "- **Sequence**: ordered, indexeble, slicable\n",
    "- **Immutable**: values cannot be modified"
   ]
  },
  {
   "cell_type": "markdown",
   "id": "b272fd3f",
   "metadata": {},
   "source": [
    "#### Methods and Formatting"
   ]
  },
  {
   "cell_type": "code",
   "execution_count": null,
   "id": "551caeb3",
   "metadata": {},
   "outputs": [],
   "source": [
    "# code block"
   ]
  },
  {
   "cell_type": "code",
   "execution_count": null,
   "id": "ec56f993",
   "metadata": {},
   "outputs": [],
   "source": [
    "# common methods: Replace"
   ]
  },
  {
   "cell_type": "code",
   "execution_count": null,
   "id": "1a478605",
   "metadata": {},
   "outputs": [],
   "source": [
    "# common methods: Split\n",
    "print(s1.split(\",\"))"
   ]
  },
  {
   "cell_type": "code",
   "execution_count": null,
   "id": "7f4861d8",
   "metadata": {},
   "outputs": [],
   "source": [
    "# common methods: find\n",
    "s1.find(\"Python\")"
   ]
  },
  {
   "cell_type": "code",
   "execution_count": null,
   "id": "90981d2a",
   "metadata": {},
   "outputs": [],
   "source": [
    "#Formatting: f-strings"
   ]
  },
  {
   "cell_type": "code",
   "execution_count": null,
   "id": "58f94d68",
   "metadata": {},
   "outputs": [],
   "source": [
    "#Formatting\n",
    "name, age, wage = \"Meryln\", 30, 16.15\n",
    "print(\"{} is {}\".format(name, age))\n",
    "print(\"Wage is {:.3f}\".format(wage))"
   ]
  },
  {
   "cell_type": "markdown",
   "id": "4e82ef4c",
   "metadata": {},
   "source": [
    "<hr style=\"border:1.3px solid gray\">"
   ]
  },
  {
   "cell_type": "markdown",
   "id": "6f5d6a5c",
   "metadata": {},
   "source": [
    "## Core Objects: Numbers"
   ]
  },
  {
   "cell_type": "markdown",
   "id": "cca0f2c7",
   "metadata": {},
   "source": [
    "#### Basics and Operations"
   ]
  },
  {
   "cell_type": "code",
   "execution_count": null,
   "id": "81fc6d7a",
   "metadata": {},
   "outputs": [],
   "source": [
    "# code block"
   ]
  },
  {
   "cell_type": "code",
   "execution_count": null,
   "id": "267bba3c",
   "metadata": {},
   "outputs": [],
   "source": [
    "# basic arithmetics"
   ]
  },
  {
   "cell_type": "code",
   "execution_count": null,
   "id": "528abf32",
   "metadata": {},
   "outputs": [],
   "source": [
    "# comparison\n",
    "print(f\"{a} is bigger than {b}:\", a>b)\n",
    "print(f\"{a} is equal to 10:\", a == 10)"
   ]
  },
  {
   "cell_type": "markdown",
   "id": "9b7ac705",
   "metadata": {},
   "source": [
    "#### Key Points\n",
    "- Use math, decimal, fractions for more tools"
   ]
  },
  {
   "cell_type": "markdown",
   "id": "766d3d8c",
   "metadata": {},
   "source": [
    "#### Built-in functions"
   ]
  },
  {
   "cell_type": "code",
   "execution_count": null,
   "id": "7ac5e931",
   "metadata": {},
   "outputs": [],
   "source": [
    "# code block"
   ]
  },
  {
   "cell_type": "code",
   "execution_count": null,
   "id": "f9037bce",
   "metadata": {},
   "outputs": [],
   "source": [
    "# type methods\n",
    "a = 5\n",
    "b = 6.3\n",
    "print(a.bit_length())\n",
    "print(b.is_integer())"
   ]
  },
  {
   "cell_type": "code",
   "execution_count": null,
   "id": "2e944a92",
   "metadata": {},
   "outputs": [],
   "source": [
    "# math module\n",
    "import math\n",
    "print(math.sqrt(16))\n",
    "print(math.pi)"
   ]
  },
  {
   "cell_type": "markdown",
   "id": "c8863df2",
   "metadata": {},
   "source": [
    "<hr style=\"border:1.3px solid gray\">"
   ]
  },
  {
   "cell_type": "markdown",
   "id": "ff789727",
   "metadata": {},
   "source": [
    "## Core Objects: Lists"
   ]
  },
  {
   "cell_type": "markdown",
   "id": "5ec390d6",
   "metadata": {},
   "source": [
    "#### Basics, Indexing and Slicing"
   ]
  },
  {
   "cell_type": "code",
   "execution_count": null,
   "id": "99263b46",
   "metadata": {},
   "outputs": [],
   "source": [
    "# code block"
   ]
  },
  {
   "cell_type": "code",
   "execution_count": null,
   "id": "90a14129",
   "metadata": {},
   "outputs": [],
   "source": [
    "# Indexing and Slicing\n",
    "print(nums[0])\n",
    "print(nums[1:3])\n",
    "print(nums[::-1])"
   ]
  },
  {
   "cell_type": "code",
   "execution_count": null,
   "id": "0843fb78",
   "metadata": {},
   "outputs": [],
   "source": [
    "# Membership and length\n",
    "print(3 in nums)\n",
    "print(len(nums))"
   ]
  },
  {
   "cell_type": "code",
   "execution_count": null,
   "id": "b10d829a",
   "metadata": {},
   "outputs": [],
   "source": [
    "# code block"
   ]
  },
  {
   "cell_type": "markdown",
   "id": "9076dc07",
   "metadata": {},
   "source": [
    "#### Key Points\n",
    "- **Sequence**: ordered, indexeable, slicable\n",
    "- **Mutable**: values can be modified\n",
    "- Supports nesting"
   ]
  },
  {
   "cell_type": "markdown",
   "id": "480993db",
   "metadata": {},
   "source": [
    "#### List methods"
   ]
  },
  {
   "cell_type": "code",
   "execution_count": null,
   "id": "633693c2",
   "metadata": {},
   "outputs": [],
   "source": [
    "# adding elements: append()"
   ]
  },
  {
   "cell_type": "code",
   "execution_count": null,
   "id": "b16455e8",
   "metadata": {},
   "outputs": [],
   "source": [
    "nums.insert(1, 1.5) # adds an element at specified index\n",
    "print(nums)"
   ]
  },
  {
   "cell_type": "code",
   "execution_count": null,
   "id": "636354d4",
   "metadata": {},
   "outputs": [],
   "source": [
    "nums.extend([6, 7]) # add items from one list to another\n",
    "print(nums)"
   ]
  },
  {
   "cell_type": "code",
   "execution_count": null,
   "id": "66213247",
   "metadata": {},
   "outputs": [],
   "source": [
    "# Removing elements\n",
    "nums.remove(1.5)\n",
    "print(nums)"
   ]
  },
  {
   "cell_type": "code",
   "execution_count": null,
   "id": "2116aa00",
   "metadata": {},
   "outputs": [],
   "source": [
    "nums.pop()\n",
    "print(nums)"
   ]
  },
  {
   "cell_type": "code",
   "execution_count": null,
   "id": "ad1433a8",
   "metadata": {},
   "outputs": [],
   "source": [
    "# sort the list: sort()"
   ]
  },
  {
   "cell_type": "code",
   "execution_count": null,
   "id": "598731a3",
   "metadata": {},
   "outputs": [],
   "source": [
    "nums.reverse() # reverse the list\n",
    "print(nums)"
   ]
  },
  {
   "cell_type": "code",
   "execution_count": null,
   "id": "2fe5529d",
   "metadata": {},
   "outputs": [],
   "source": [
    "nums.count(2) # frequency of passed element"
   ]
  },
  {
   "cell_type": "code",
   "execution_count": null,
   "id": "5ab84084",
   "metadata": {},
   "outputs": [],
   "source": [
    "nums.index(3) # index of passed element"
   ]
  },
  {
   "cell_type": "markdown",
   "id": "6edfc08b",
   "metadata": {},
   "source": [
    "<hr style=\"border:1.3px solid gray\">"
   ]
  },
  {
   "cell_type": "markdown",
   "id": "ae1569d7",
   "metadata": {},
   "source": [
    "## Core Objects: Tuples"
   ]
  },
  {
   "cell_type": "code",
   "execution_count": null,
   "id": "1b794565",
   "metadata": {},
   "outputs": [],
   "source": [
    "# code block"
   ]
  },
  {
   "cell_type": "code",
   "execution_count": null,
   "id": "15454453",
   "metadata": {},
   "outputs": [],
   "source": [
    "# Indexing and Slicing\n",
    "print(t1[0])\n",
    "print(t1[1:3])"
   ]
  },
  {
   "cell_type": "code",
   "execution_count": null,
   "id": "6edfe02d",
   "metadata": {},
   "outputs": [],
   "source": [
    "# code block"
   ]
  },
  {
   "cell_type": "code",
   "execution_count": null,
   "id": "33a979ae",
   "metadata": {},
   "outputs": [],
   "source": [
    "# Nested\n",
    "nested = ((1, 2), (3, 4))\n",
    "nested"
   ]
  },
  {
   "cell_type": "markdown",
   "id": "bae8d2b1",
   "metadata": {},
   "source": [
    "#### Key Points\n",
    "- **Sequence**: ordered, indexable, slicable\n",
    "- **Immutable**: cannot be changed in-place\n",
    "- Safe to store data"
   ]
  },
  {
   "cell_type": "markdown",
   "id": "7a5be156",
   "metadata": {},
   "source": [
    "#### Tuple Methods and Use Cases"
   ]
  },
  {
   "cell_type": "code",
   "execution_count": null,
   "id": "cd2ab728",
   "metadata": {},
   "outputs": [],
   "source": [
    "# tuple methods\n",
    "print(t1.count(3))\n",
    "print(t1.index(2))"
   ]
  },
  {
   "cell_type": "code",
   "execution_count": null,
   "id": "813aeaa3",
   "metadata": {},
   "outputs": [],
   "source": [
    "# code block"
   ]
  },
  {
   "cell_type": "code",
   "execution_count": null,
   "id": "24e814ce",
   "metadata": {},
   "outputs": [],
   "source": [
    "# Upacking Tuples\n",
    "coords = (10, 20)\n",
    "x, y = coords\n",
    "print(x, y)"
   ]
  },
  {
   "cell_type": "code",
   "execution_count": null,
   "id": "159c0ef6",
   "metadata": {},
   "outputs": [],
   "source": [
    "# Swapping values\n",
    "c, d = 5, 7\n",
    "c, d = d, c\n",
    "print(c, d)"
   ]
  },
  {
   "cell_type": "markdown",
   "id": "a352a0d9",
   "metadata": {},
   "source": [
    "<hr style=\"border:1.3px solid gray\">"
   ]
  },
  {
   "cell_type": "markdown",
   "id": "4bdc6e9f",
   "metadata": {},
   "source": [
    "## Core Objects: Dictionaries"
   ]
  },
  {
   "cell_type": "markdown",
   "id": "c099be78",
   "metadata": {},
   "source": [
    "#### Basics, Access and Operations"
   ]
  },
  {
   "cell_type": "code",
   "execution_count": null,
   "id": "0f360b73",
   "metadata": {},
   "outputs": [],
   "source": [
    "# code block"
   ]
  },
  {
   "cell_type": "code",
   "execution_count": null,
   "id": "11dffe43",
   "metadata": {},
   "outputs": [],
   "source": [
    "# Access\n",
    "print(person[\"name\"])"
   ]
  },
  {
   "cell_type": "code",
   "execution_count": null,
   "id": "0cc209ab",
   "metadata": {},
   "outputs": [],
   "source": [
    "# Modify"
   ]
  },
  {
   "cell_type": "code",
   "execution_count": null,
   "id": "8c140cb0",
   "metadata": {},
   "outputs": [],
   "source": [
    "# deleting\n",
    "del person[\"city\"]\n",
    "person.pop(\"age\")\n",
    "print(person)"
   ]
  },
  {
   "cell_type": "markdown",
   "id": "1025cb75",
   "metadata": {},
   "source": [
    "#### Key Points\n",
    "- **Not Sequences**: mappings\n",
    "- **Mutable**: values can be modified\n",
    "- Supports nesting"
   ]
  },
  {
   "cell_type": "markdown",
   "id": "75b93b4e",
   "metadata": {},
   "source": [
    "#### Dict Methods and Use Cases"
   ]
  },
  {
   "cell_type": "code",
   "execution_count": null,
   "id": "88be3ab5",
   "metadata": {},
   "outputs": [],
   "source": [
    "# Common Methods\n",
    "car = {\"brand\": \"BMW\", \"year\": 2021}\n",
    "print(\"Keys: \", car.keys())\n",
    "print(\"Values: \", car.values())\n",
    "print(\"Items: \", car.items())"
   ]
  },
  {
   "cell_type": "code",
   "execution_count": null,
   "id": "1943300a",
   "metadata": {},
   "outputs": [],
   "source": [
    "# to extend\n",
    "car.update({\"model\": \"Z4\"})\n",
    "car"
   ]
  },
  {
   "cell_type": "code",
   "execution_count": null,
   "id": "06f3b0e0",
   "metadata": {},
   "outputs": [],
   "source": [
    "# nesting\n",
    "cars = {\n",
    "    \"001\": {\"brand\":\"BMW\", \"year\":2021},\n",
    "    \"002\": {\"brand\":\"AUDI\", \"year\":2023}\n",
    "}\n",
    "# extract specific brand\n",
    "cars[\"002\"][\"brand\"]"
   ]
  },
  {
   "cell_type": "markdown",
   "id": "d33906e3",
   "metadata": {},
   "source": [
    "<hr style=\"border:1.3px solid gray\">"
   ]
  },
  {
   "cell_type": "markdown",
   "id": "18707895",
   "metadata": {},
   "source": [
    "## Sets and Other Core Objects"
   ]
  },
  {
   "cell_type": "markdown",
   "id": "98f5a91d",
   "metadata": {},
   "source": [
    "#### Sets"
   ]
  },
  {
   "cell_type": "code",
   "execution_count": null,
   "id": "ccec3e40",
   "metadata": {},
   "outputs": [],
   "source": [
    "# code block"
   ]
  },
  {
   "cell_type": "code",
   "execution_count": null,
   "id": "f9cac359",
   "metadata": {},
   "outputs": [],
   "source": [
    "# adding and removing\n",
    "langs.add(\"julia\")\n",
    "langs.discard(\"julia\")"
   ]
  },
  {
   "cell_type": "code",
   "execution_count": null,
   "id": "3fc5d836",
   "metadata": {},
   "outputs": [],
   "source": [
    "# Set operations\n",
    "a = {1, 2, 3}\n",
    "b = {3, 4, 5}\n",
    "\n",
    "print(\"Union:\", a.union(b))\n",
    "print(\"Intersection:\", a.intersection(b))\n",
    "print(\"Difference:\", a.difference(b))"
   ]
  },
  {
   "cell_type": "markdown",
   "id": "6c81570c",
   "metadata": {},
   "source": [
    "### Key Points\n",
    "- **Not Sequences**: unordered\n",
    "- **Mutable**: but its elements are hashable\n",
    "- Stores unique data"
   ]
  },
  {
   "cell_type": "markdown",
   "id": "35e80b44",
   "metadata": {},
   "source": [
    "#### Other Core Objects"
   ]
  },
  {
   "cell_type": "code",
   "execution_count": null,
   "id": "78c14177",
   "metadata": {},
   "outputs": [],
   "source": [
    "# Boolean"
   ]
  },
  {
   "cell_type": "code",
   "execution_count": null,
   "id": "238ecdc1",
   "metadata": {},
   "outputs": [],
   "source": [
    "# None\n",
    "y = None\n",
    "y is None"
   ]
  },
  {
   "cell_type": "code",
   "execution_count": null,
   "id": "a98970b1",
   "metadata": {},
   "outputs": [],
   "source": [
    "# Range (sequence)"
   ]
  },
  {
   "cell_type": "code",
   "execution_count": null,
   "id": "8480c27e",
   "metadata": {},
   "outputs": [],
   "source": [
    "# Bytes and bytearray\n",
    "b = b\"abc\"\n",
    "ba = bytearray(b)\n",
    "ba[0] = 65"
   ]
  },
  {
   "cell_type": "markdown",
   "id": "66ec16e9",
   "metadata": {},
   "source": [
    "### Key Points\n",
    "- `bool`: unordered\n",
    "- `None`: \"no value\" place holder\n",
    "- `range`: numeric sequences\n",
    "- `bytearray`: binary data handling"
   ]
  },
  {
   "cell_type": "markdown",
   "id": "f3c1f3a1",
   "metadata": {},
   "source": [
    "<hr style=\"border:1.3px solid gray\">"
   ]
  },
  {
   "cell_type": "markdown",
   "id": "8024e13d",
   "metadata": {},
   "source": [
    "## Copying in Python\n",
    "#### Immutable objects"
   ]
  },
  {
   "cell_type": "code",
   "execution_count": null,
   "id": "3c8ef053",
   "metadata": {},
   "outputs": [],
   "source": [
    "# code block"
   ]
  },
  {
   "cell_type": "code",
   "execution_count": null,
   "id": "5c1fdc56",
   "metadata": {},
   "outputs": [],
   "source": [
    "# strings\n",
    "s1 = \"Hello\"\n",
    "s2 = s1\n",
    "s2 += \"!\"\n",
    "s1,s2"
   ]
  },
  {
   "cell_type": "code",
   "execution_count": null,
   "id": "43d455da",
   "metadata": {},
   "outputs": [],
   "source": [
    "# tuples\n",
    "t1 = (1, 2, 3)\n",
    "t2 = t1\n",
    "t2 += (4,)\n",
    "t1, t2"
   ]
  },
  {
   "cell_type": "markdown",
   "id": "b34a9f4d",
   "metadata": {},
   "source": [
    "### Key Points:\n",
    "- Immutables cannot be changed in place\n",
    "- Any modification creates a new object"
   ]
  },
  {
   "cell_type": "markdown",
   "id": "c95c8ab1",
   "metadata": {},
   "source": [
    "#### Mutable objects"
   ]
  },
  {
   "cell_type": "code",
   "execution_count": null,
   "id": "8913590a",
   "metadata": {},
   "outputs": [],
   "source": [
    "import copy\n",
    "\n",
    "lst1 = [1, 2, [3, 4]]\n",
    "# code block"
   ]
  },
  {
   "cell_type": "code",
   "execution_count": null,
   "id": "129d0fb2",
   "metadata": {},
   "outputs": [],
   "source": [
    "lst1[2][0] = 99\n",
    "\n",
    "print(\"List 1:\", lst1)\n",
    "print(\"List 2:\" ,lst2)\n",
    "print(\"Shallow copy:\", lst_shallow)\n",
    "print(\"Deep copy:\", lst_deep)"
   ]
  },
  {
   "cell_type": "code",
   "execution_count": null,
   "id": "4e7a0a85",
   "metadata": {},
   "outputs": [],
   "source": [
    "# Dictionaries\n",
    "dict1 = {\"a\":1, \"b\":{\"c\":2}}\n",
    "dict2 = copy.deepcopy(dict1)\n",
    "dict1[\"b\"][\"c\"] = 45\n",
    "print(\"Dict 1:\", dict1)\n",
    "print(\"Dict 2:\", dict2)"
   ]
  },
  {
   "cell_type": "markdown",
   "id": "2ea07cbc",
   "metadata": {},
   "source": [
    "### Key Points:\n",
    "- Mutable types share reference by default\n",
    "- `=` ➙ reference\n",
    "- `copy.copy()` ➙ shallow \n",
    "- `copy.deepcopy()` ➙ full independent copy"
   ]
  },
  {
   "cell_type": "markdown",
   "id": "cca2ed3e",
   "metadata": {},
   "source": [
    "<hr style=\"border:1.3px solid gray\">"
   ]
  },
  {
   "cell_type": "markdown",
   "id": "c3aa3635",
   "metadata": {},
   "source": [
    "## File Handling in Python"
   ]
  },
  {
   "cell_type": "markdown",
   "id": "b518e793",
   "metadata": {},
   "source": [
    "#### Reading Files"
   ]
  },
  {
   "cell_type": "code",
   "execution_count": null,
   "id": "9a25eebe",
   "metadata": {},
   "outputs": [],
   "source": [
    "# Open and Read\n",
    "f = open(\"data.txt\", \"r\")\n",
    "content = f.read()\n",
    "f.close()"
   ]
  },
  {
   "cell_type": "code",
   "execution_count": null,
   "id": "20975528",
   "metadata": {},
   "outputs": [],
   "source": [
    "# Safer with context manager"
   ]
  },
  {
   "cell_type": "code",
   "execution_count": null,
   "id": "9130d2d2",
   "metadata": {},
   "outputs": [],
   "source": [
    "# Iterate over lines\n",
    "with open(\"data.txt\", \"r\") as f:\n",
    "    for line in f:\n",
    "        print(line.strip())"
   ]
  },
  {
   "cell_type": "markdown",
   "id": "00cfa5d8",
   "metadata": {},
   "source": [
    "### Key Points\n",
    "- `\"r\"` : read mode\n",
    "- Use `with` to autoclose"
   ]
  },
  {
   "cell_type": "markdown",
   "id": "354dfb8c",
   "metadata": {},
   "source": [
    "#### Writing and Other Modes"
   ]
  },
  {
   "cell_type": "code",
   "execution_count": null,
   "id": "38cce4ee",
   "metadata": {},
   "outputs": [],
   "source": [
    "# code block"
   ]
  },
  {
   "cell_type": "code",
   "execution_count": null,
   "id": "2601c10a",
   "metadata": {},
   "outputs": [],
   "source": [
    "# Appending\n",
    "with open(\"intro.txt\", \"a\") as f:\n",
    "    f.write(\"\\nPython is a programming language\")"
   ]
  },
  {
   "cell_type": "code",
   "execution_count": null,
   "id": "0ed61261",
   "metadata": {},
   "outputs": [],
   "source": [
    "# Binary Mode\n",
    "with open(\"LRZ-Logo.png\", \"rb\") as f:\n",
    "    data = f.read()"
   ]
  },
  {
   "cell_type": "markdown",
   "id": "c59ea0b0",
   "metadata": {},
   "source": [
    "### Key Points\n",
    "- `\"w\"` : write, `\"a\"`: append\n",
    "- `\"rb\"/\"wb\"` for binary files"
   ]
  },
  {
   "cell_type": "markdown",
   "id": "9e3ca8e4",
   "metadata": {},
   "source": [
    "<hr style=\"border:1.3px solid gray\">"
   ]
  },
  {
   "cell_type": "markdown",
   "id": "a6d93a3d",
   "metadata": {},
   "source": [
    "## Conditionals and Comparisons"
   ]
  },
  {
   "cell_type": "markdown",
   "id": "e0850eb2",
   "metadata": {},
   "source": [
    "#### Conditional Statements"
   ]
  },
  {
   "cell_type": "code",
   "execution_count": null,
   "id": "a6cd9cf8",
   "metadata": {},
   "outputs": [],
   "source": [
    "# code block"
   ]
  },
  {
   "cell_type": "code",
   "execution_count": null,
   "id": "da5b23ea",
   "metadata": {},
   "outputs": [],
   "source": [
    "# Nested Conditionals\n",
    "if x > 0:\n",
    "    if x < 100:\n",
    "        print(\"Small positive\")"
   ]
  },
  {
   "cell_type": "markdown",
   "id": "11dc2244",
   "metadata": {},
   "source": [
    "### Key Points\n",
    "- Controls program flow based on logic\n",
    "- Blocks defined by indentation"
   ]
  },
  {
   "cell_type": "code",
   "execution_count": null,
   "id": "d40b8a1b",
   "metadata": {},
   "outputs": [],
   "source": [
    "# comparison operators"
   ]
  },
  {
   "cell_type": "code",
   "execution_count": null,
   "id": "be656772",
   "metadata": {},
   "outputs": [],
   "source": [
    "# logical operators\n",
    "statement1 = x>5 and x<20\n",
    "statement2 = x==10 or x==20\n",
    "statement3 = not (x==0)"
   ]
  },
  {
   "cell_type": "code",
   "execution_count": null,
   "id": "c586f301",
   "metadata": {},
   "outputs": [],
   "source": [
    "# Identity / Membership\n",
    "print(x is None)"
   ]
  },
  {
   "cell_type": "markdown",
   "id": "243bee94",
   "metadata": {},
   "source": [
    "### Key Points\n",
    "- All values have a truthiness: `0`, `\"\"`, `[]`, `None` -> `False`"
   ]
  },
  {
   "cell_type": "markdown",
   "id": "23843c6e",
   "metadata": {},
   "source": [
    "## Loops - `for`, `while` and `range`"
   ]
  },
  {
   "cell_type": "markdown",
   "id": "5fc57d3a",
   "metadata": {},
   "source": [
    "#### `for` Loops"
   ]
  },
  {
   "cell_type": "code",
   "execution_count": null,
   "id": "7429b920",
   "metadata": {},
   "outputs": [],
   "source": [
    "# code block"
   ]
  },
  {
   "cell_type": "code",
   "execution_count": null,
   "id": "dd5f928d",
   "metadata": {},
   "outputs": [],
   "source": [
    "# Iterating a list\n",
    "for fruit in [\"apple\", \"banana\"]:\n",
    "    print(fruit)"
   ]
  },
  {
   "cell_type": "code",
   "execution_count": null,
   "id": "156c29db",
   "metadata": {},
   "outputs": [],
   "source": [
    "# Nested loop\n",
    "for char in \"Hey\":\n",
    "    for i in range(3):\n",
    "        print(char, i)"
   ]
  },
  {
   "cell_type": "markdown",
   "id": "63b606b7",
   "metadata": {},
   "source": [
    "### Key Points\n",
    "- Use `for` with sequences: strings, lists, ranges, etc.\n",
    "- `range(n)` give 0 n-1"
   ]
  },
  {
   "cell_type": "markdown",
   "id": "f3b26bbb",
   "metadata": {},
   "source": [
    "#### `while` Loops and Loop Control"
   ]
  },
  {
   "cell_type": "code",
   "execution_count": null,
   "id": "31ca9be2",
   "metadata": {},
   "outputs": [],
   "source": [
    "# code block"
   ]
  },
  {
   "cell_type": "code",
   "execution_count": null,
   "id": "4d65914f",
   "metadata": {},
   "outputs": [],
   "source": [
    "# Loop control\n",
    "for n in range(5):\n",
    "    if n == 3:\n",
    "        break\n",
    "    if n == 1:\n",
    "        continue\n",
    "    print(n)"
   ]
  },
  {
   "cell_type": "markdown",
   "id": "928e8b7a",
   "metadata": {},
   "source": [
    "### Key Points\n",
    "- `while` runs as long as condition is true\n",
    "- use `break` , `continue` for control\n",
    "- `else` clause runs only if loop wasn't broken"
   ]
  },
  {
   "cell_type": "markdown",
   "id": "f4608e4c",
   "metadata": {},
   "source": [
    "<hr style=\"border:1.3px solid gray\">"
   ]
  },
  {
   "cell_type": "markdown",
   "id": "111458b1",
   "metadata": {},
   "source": [
    "## Functions"
   ]
  },
  {
   "cell_type": "markdown",
   "id": "39d02fb1",
   "metadata": {},
   "source": [
    "#### Defining and Calling Functions"
   ]
  },
  {
   "cell_type": "code",
   "execution_count": null,
   "id": "e2226070",
   "metadata": {},
   "outputs": [],
   "source": [
    "# Code block"
   ]
  },
  {
   "cell_type": "code",
   "execution_count": null,
   "id": "133cc313",
   "metadata": {},
   "outputs": [],
   "source": [
    "# code block"
   ]
  },
  {
   "cell_type": "code",
   "execution_count": null,
   "id": "82bc5957",
   "metadata": {},
   "outputs": [],
   "source": [
    "# Return multiple values\n",
    "def stats(a, b):\n",
    "    return a+b, a*b\n",
    "\n",
    "sum_, prod = stats(2, 4)"
   ]
  },
  {
   "cell_type": "markdown",
   "id": "534e7257",
   "metadata": {},
   "source": [
    "#### Parameters and Scope"
   ]
  },
  {
   "cell_type": "code",
   "execution_count": null,
   "id": "37564ee0",
   "metadata": {},
   "outputs": [],
   "source": [
    "def info(name, age):\n",
    "    return f\"{name} is {age}\"\n",
    "\n",
    "info(\"Isska\", 22)\n",
    "info(age=22, name=\"Isska\")"
   ]
  },
  {
   "cell_type": "code",
   "execution_count": null,
   "id": "a6fdd757",
   "metadata": {},
   "outputs": [],
   "source": [
    "x = 10         # Global scope \n",
    "def show():\n",
    "    x = 5      # Local scope\n",
    "    print(x)\n",
    "\n",
    "show()\n",
    "print(x)"
   ]
  },
  {
   "cell_type": "markdown",
   "id": "4699d35f",
   "metadata": {},
   "source": [
    "### Key Points\n",
    "- Function parameters can be: positional, keyword and default\n",
    "- variables defined in a function are local"
   ]
  },
  {
   "cell_type": "markdown",
   "id": "106b79ee",
   "metadata": {},
   "source": [
    "<hr style=\"border:1.3px solid gray\">"
   ]
  },
  {
   "cell_type": "code",
   "execution_count": null,
   "id": "833070ce",
   "metadata": {},
   "outputs": [],
   "source": []
  }
 ],
 "metadata": {
  "kernelspec": {
   "display_name": "Python 3 (ipykernel)",
   "language": "python",
   "name": "python3"
  },
  "language_info": {
   "codemirror_mode": {
    "name": "ipython",
    "version": 3
   },
   "file_extension": ".py",
   "mimetype": "text/x-python",
   "name": "python",
   "nbconvert_exporter": "python",
   "pygments_lexer": "ipython3",
   "version": "3.12.10"
  }
 },
 "nbformat": 4,
 "nbformat_minor": 5
}
