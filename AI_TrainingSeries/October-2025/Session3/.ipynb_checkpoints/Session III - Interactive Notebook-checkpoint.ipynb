{
 "cells": [
  {
   "cell_type": "markdown",
   "id": "bc72b977",
   "metadata": {},
   "source": [
    "<p style='text-align: right;'> Dr. Birkan Emrem </p>\n",
    "<p style='text-align: right;'> 16.10.2025 </p>\n",
    "<p style='text-align: right;'> AI Training Series: Python Refresher: Session III </p>"
   ]
  },
  {
   "cell_type": "markdown",
   "id": "b46bdaec",
   "metadata": {},
   "source": [
    "## Modules\n",
    "#### `math_utils.py`"
   ]
  },
  {
   "cell_type": "code",
   "execution_count": null,
   "id": "41f15f9d",
   "metadata": {},
   "outputs": [],
   "source": [
    "%%writefile math_utils.py\n",
    "\n",
    "pi = 3.1416\n",
    "\n",
    "def area_circle(r):\n",
    "    return pi*(r**2)\n",
    "\n",
    "def std_dev(vals):\n",
    "    m = sum(vals)/len(vals)\n",
    "    var = sum((x-m)**2 for x in vals)\n",
    "    return (var/len(vals))**0.5\n",
    "\n",
    "def normalize(vals):\n",
    "    mx, mn = max(vals), min(vals)\n",
    "    return [(x-mn)/(mx-mn) for x in vals]"
   ]
  },
  {
   "cell_type": "markdown",
   "id": "cc5fcd47",
   "metadata": {},
   "source": [
    "#### `importing math_utils.py`"
   ]
  },
  {
   "cell_type": "code",
   "execution_count": null,
   "id": "6934e084",
   "metadata": {},
   "outputs": [],
   "source": [
    "import math_utils as mu"
   ]
  },
  {
   "cell_type": "code",
   "execution_count": null,
   "id": "9ad7c209",
   "metadata": {},
   "outputs": [],
   "source": [
    "# code block"
   ]
  },
  {
   "cell_type": "code",
   "execution_count": null,
   "id": "63506afe",
   "metadata": {},
   "outputs": [],
   "source": [
    "from math_utils import area_circle\n",
    "\n",
    "print(\"Area:\", area_circle(3))"
   ]
  },
  {
   "cell_type": "code",
   "execution_count": null,
   "id": "211b7437",
   "metadata": {},
   "outputs": [],
   "source": [
    "# code block"
   ]
  },
  {
   "cell_type": "markdown",
   "id": "b28a3e7b",
   "metadata": {},
   "source": [
    "#### Key Points:\n",
    "- Module: single `.py` file\n",
    "- Stores functions, constants, classes, etc.\n",
    "- We have many built-in modules: `math`, `os`, `random`, etc."
   ]
  },
  {
   "cell_type": "markdown",
   "id": "e27a7232",
   "metadata": {},
   "source": [
    "<hr style=\"border:1.3px solid gray\">"
   ]
  },
  {
   "cell_type": "markdown",
   "id": "6a662f30",
   "metadata": {},
   "source": [
    "## Packages — Built-in and External\n",
    "#### Package Structure\n",
    "\n",
    "A package is a collection of Python modules"
   ]
  },
  {
   "cell_type": "markdown",
   "id": "7598b1b5",
   "metadata": {},
   "source": [
    "```bash\n",
    "# Basic Package\n",
    "mypackage/\n",
    "|—— __init__.py\n",
    "|—— mathops.py\n",
    "|—— helpers.py\n",
    "```"
   ]
  },
  {
   "cell_type": "markdown",
   "id": "aeca5a0c",
   "metadata": {},
   "source": [
    "#### Key Points:\n",
    "- A folder with __init.py__ = package\n",
    "- Built-in, external or custom\n",
    "- Avoid term library in Python! "
   ]
  },
  {
   "cell_type": "markdown",
   "id": "21538818",
   "metadata": {},
   "source": [
    "#### External Packages"
   ]
  },
  {
   "cell_type": "code",
   "execution_count": null,
   "id": "a5cef251",
   "metadata": {},
   "outputs": [],
   "source": [
    "import numpy as np\n",
    "import pandas as pd"
   ]
  },
  {
   "cell_type": "code",
   "execution_count": null,
   "id": "4be89b8f",
   "metadata": {},
   "outputs": [],
   "source": [
    "# Numpy example\n",
    "arr = np.array([1, 2, 3])\n",
    "print(f\"Number of dimension of array {arr}:\", arr.ndim)\n",
    "print(f\"Mean value of array {arr}:\",np.mean(arr))"
   ]
  },
  {
   "cell_type": "code",
   "execution_count": null,
   "id": "6742dc71",
   "metadata": {},
   "outputs": [],
   "source": [
    "# code block"
   ]
  },
  {
   "cell_type": "markdown",
   "id": "7c0f33f7",
   "metadata": {},
   "source": [
    "**Popular packages**: numpy, pandas, matplotlib, pytorch, etc."
   ]
  },
  {
   "cell_type": "markdown",
   "id": "233998ea",
   "metadata": {},
   "source": [
    "## Key Points:\n",
    "- External libraries: extend Python power\n",
    "- Installed via conda or pip"
   ]
  },
  {
   "cell_type": "markdown",
   "id": "a6aa4ef5",
   "metadata": {},
   "source": [
    "<hr style=\"border:1.3px solid gray\">"
   ]
  },
  {
   "cell_type": "markdown",
   "id": "b2e5a42b",
   "metadata": {},
   "source": [
    "## Installing and Managing Packages\n",
    "#### `conda` (Preferred Tool)"
   ]
  },
  {
   "cell_type": "markdown",
   "id": "1f94d7c8",
   "metadata": {},
   "source": [
    "```bash\n",
    "# Create and activate environment\n",
    "conda create –n testEnv python=3.12\n",
    "conda activate testEnv\n",
    "```"
   ]
  },
  {
   "cell_type": "markdown",
   "id": "9a9cce86",
   "metadata": {},
   "source": [
    "```bash\n",
    "# Install, update and remove\n",
    "conda install numpy pandas matplotlib\n",
    "conda update numpy\n",
    "conda remove pandas\n",
    "```"
   ]
  },
  {
   "cell_type": "markdown",
   "id": "1697006f",
   "metadata": {},
   "source": [
    "```bash\n",
    "# List and share\n",
    "conda list\n",
    "conda env export > environment.yml\n",
    "```"
   ]
  },
  {
   "cell_type": "markdown",
   "id": "a1d1b8d8",
   "metadata": {},
   "source": [
    "```bash\n",
    "# recreate from file\n",
    "conda env create –f environment.yml\n",
    "```"
   ]
  },
  {
   "cell_type": "markdown",
   "id": "40678954",
   "metadata": {},
   "source": [
    "### Key Points:\n",
    "- Handles Python + packages + dependencies\n",
    "- Best for scientific & data workflows"
   ]
  },
  {
   "cell_type": "markdown",
   "id": "a8b4678f",
   "metadata": {},
   "source": [
    "`pip`"
   ]
  },
  {
   "cell_type": "markdown",
   "id": "3df5d508",
   "metadata": {},
   "source": [
    "```bash\n",
    "# Install, update and uninstall\n",
    "pip install jupyter\n",
    "pip install —upgrade jupyter\n",
    "pip uninstall jupyter\n",
    "```"
   ]
  },
  {
   "cell_type": "markdown",
   "id": "07587239",
   "metadata": {},
   "source": [
    "```bash\n",
    "# save and reinstall requirements\n",
    "pip freeze > requirements.txt\n",
    "pip install –r requierements.txt\n",
    "```"
   ]
  },
  {
   "cell_type": "markdown",
   "id": "7ee10a0f",
   "metadata": {},
   "source": [
    "```bash \n",
    "# check version\n",
    "pip show numpy\n",
    "pip list\n",
    "\n",
    "```"
   ]
  },
  {
   "cell_type": "markdown",
   "id": "b210abe7",
   "metadata": {},
   "source": [
    "### Key Points:\n",
    "- Main tool for PyPI packages\n",
    "- Use only if a package is not available within conda\n",
    "- Simple fast, for most of the cases"
   ]
  },
  {
   "cell_type": "markdown",
   "id": "69c64c46",
   "metadata": {},
   "source": [
    "<hr style=\"border:1.3px solid gray\">"
   ]
  },
  {
   "cell_type": "markdown",
   "id": "568d1fa6",
   "metadata": {},
   "source": [
    "## Logging Basics\n",
    "#### Why Use Logging?"
   ]
  },
  {
   "cell_type": "code",
   "execution_count": null,
   "id": "966f1898",
   "metadata": {},
   "outputs": [],
   "source": [
    "import logging"
   ]
  },
  {
   "cell_type": "code",
   "execution_count": null,
   "id": "821682cc",
   "metadata": {},
   "outputs": [],
   "source": [
    "# code block"
   ]
  },
  {
   "cell_type": "code",
   "execution_count": null,
   "id": "1f92f38d",
   "metadata": {},
   "outputs": [],
   "source": [
    "# Different log levels\n",
    "logging.debug(\"This is a debug message\")\n",
    "logging.info(\"Starting the process ..\")\n",
    "logging.warning(\"This is a warning\")\n",
    "logging.error(\"Something went wrong!\")\n",
    "logging.critical(\"Critical Error\")"
   ]
  },
  {
   "cell_type": "markdown",
   "id": "2c0e91c3",
   "metadata": {},
   "source": [
    "### Key Points:\n",
    "- Different levels of control\n",
    "- Helps in debugging & production debugging"
   ]
  },
  {
   "cell_type": "markdown",
   "id": "966ce6f0",
   "metadata": {},
   "source": [
    "#### Customizing & Saving Logs"
   ]
  },
  {
   "cell_type": "code",
   "execution_count": null,
   "id": "df0f84e3",
   "metadata": {},
   "outputs": [],
   "source": [
    "# Reset logging\n",
    "for handler in logging.root.handlers[:]:\n",
    "    logging.root.removeHandler(handler)\n",
    "\n",
    "# Configure again\n",
    "logging.basicConfig(\n",
    "    filename=\"app.log\",\n",
    "    level=logging.INFO,\n",
    "    format=\"%(asctime)s - %(levelname)s \\\n",
    "    - %(message)s\"\n",
    ")\n",
    "\n",
    "logging.info(\"Application started\")\n",
    "logging.warning(\"Low disk space\")\n",
    "logging.error(\"File not found\")"
   ]
  },
  {
   "cell_type": "code",
   "execution_count": null,
   "id": "40292d85",
   "metadata": {},
   "outputs": [],
   "source": [
    "! cat app.log"
   ]
  },
  {
   "cell_type": "markdown",
   "id": "4f77919c",
   "metadata": {},
   "source": [
    "### Key Points:\n",
    "- Set format & log file\n",
    "- Use different levels for dev vs prod\n",
    "- Keep logs for later analysis"
   ]
  },
  {
   "cell_type": "markdown",
   "id": "ba932086",
   "metadata": {},
   "source": [
    "<hr style=\"border:1.3px solid gray\">"
   ]
  },
  {
   "cell_type": "markdown",
   "id": "0f4bd4ff",
   "metadata": {},
   "source": [
    "## Testing - Basics\n",
    "#### Quick Checks with `assert`"
   ]
  },
  {
   "cell_type": "code",
   "execution_count": null,
   "id": "a2ee235e",
   "metadata": {},
   "outputs": [],
   "source": [
    "# code block"
   ]
  },
  {
   "cell_type": "code",
   "execution_count": null,
   "id": "0c5ae1ed",
   "metadata": {},
   "outputs": [],
   "source": [
    "# code block"
   ]
  },
  {
   "cell_type": "code",
   "execution_count": null,
   "id": "c46f32cd",
   "metadata": {},
   "outputs": [],
   "source": [
    "# Failing test raises AssertionError\n",
    "assert add(1, 1) == 5"
   ]
  },
  {
   "cell_type": "markdown",
   "id": "3d415531",
   "metadata": {},
   "source": [
    "### Key Points:\n",
    "- `assert` for quick sanity checks\n",
    "- Stops execution if test fails\n",
    "- Good for small scripts"
   ]
  },
  {
   "cell_type": "markdown",
   "id": "97c9a925",
   "metadata": {},
   "source": [
    "`unittest`"
   ]
  },
  {
   "cell_type": "code",
   "execution_count": null,
   "id": "bc3297e7",
   "metadata": {},
   "outputs": [],
   "source": [
    "%%writefile test_math.py\n",
    "\n",
    "import unittest     \n",
    "\n",
    "def mlp(a, b):\n",
    "    return a * b\n",
    "\n",
    "class TestMath(unittest.TestCase):\n",
    "    def test_positive(self):\n",
    "        self.assertEqual(mlp(2, 3), 6)\n",
    "\n",
    "    def test_zero(self):\n",
    "        self.assertEqual(mlp(0, 5), 0)\n",
    "\n",
    "if __name__ == \"__main__\":\n",
    "    unittest.main()"
   ]
  },
  {
   "cell_type": "code",
   "execution_count": null,
   "id": "873b26c7",
   "metadata": {},
   "outputs": [],
   "source": [
    "! python test_math.py"
   ]
  },
  {
   "cell_type": "markdown",
   "id": "5693a710",
   "metadata": {},
   "source": [
    "### Key Points:\n",
    "- `unittest`: built-in testing package\n",
    "- Group tests in classes\n",
    "- run as: `python test_math.py`"
   ]
  },
  {
   "cell_type": "markdown",
   "id": "ced5cefa",
   "metadata": {},
   "source": [
    "<hr style=\"border:1.3px solid gray\">"
   ]
  },
  {
   "cell_type": "markdown",
   "id": "4827c168",
   "metadata": {},
   "source": [
    "## `pytest`\n",
    "#### Why `pytest`?"
   ]
  },
  {
   "cell_type": "code",
   "execution_count": null,
   "id": "85fc2b30",
   "metadata": {},
   "outputs": [],
   "source": [
    "# code block"
   ]
  },
  {
   "cell_type": "markdown",
   "id": "0c895e30",
   "metadata": {},
   "source": [
    "```bash\n",
    "# Run tests in terminal\n",
    "# pytest –v\n",
    "# output shows passed/failed tests\n",
    "```"
   ]
  },
  {
   "cell_type": "code",
   "execution_count": null,
   "id": "92b66f5d",
   "metadata": {},
   "outputs": [],
   "source": [
    "! pytest -v test_calculator.py"
   ]
  },
  {
   "cell_type": "markdown",
   "id": "bf60ab35",
   "metadata": {},
   "source": [
    "### Key Points:\n",
    "- Simpler syntax than `unittest`\n",
    "- Automatic discovery of test files (`test_*.py`)\n",
    "- Supports fixtures, parametrization and plugins"
   ]
  },
  {
   "cell_type": "markdown",
   "id": "36d66421",
   "metadata": {},
   "source": [
    "#### Fixtures and Paramtetrization"
   ]
  },
  {
   "cell_type": "code",
   "execution_count": null,
   "id": "459f8bc3",
   "metadata": {},
   "outputs": [],
   "source": [
    "%%writefile test_fixtures_parameters.py\n",
    "\n",
    "import pytest\n",
    "\n",
    "@pytest.fixture\n",
    "def sample_data():\n",
    "    return [1, 2, 3]\n",
    "\n",
    "def test_sum(sample_data):\n",
    "    assert sum(sample_data) == 6\n",
    "\n",
    "@pytest.mark.parametrize(\"a,b,result\", [(2, 3, 5), (5, 5, 10)])\n",
    "def test_add(a, b, result):\n",
    "    assert a + b == result"
   ]
  },
  {
   "cell_type": "code",
   "execution_count": null,
   "id": "4f580075",
   "metadata": {},
   "outputs": [],
   "source": [
    "! pytest -v test_fixtures_parameters.py"
   ]
  },
  {
   "cell_type": "markdown",
   "id": "5c2755de",
   "metadata": {},
   "source": [
    "### Key Points:\n",
    "- Fixtures provide reusable test setup\n",
    "- Parametrize runs a test with multiple inputs"
   ]
  },
  {
   "cell_type": "markdown",
   "id": "164d6f24",
   "metadata": {},
   "source": [
    "<hr style=\"border:1.3px solid gray\">"
   ]
  },
  {
   "cell_type": "markdown",
   "id": "156a3092",
   "metadata": {},
   "source": [
    "## Code Quality: Linting and Formatting\n",
    "#### Linting and Type Checking"
   ]
  },
  {
   "cell_type": "markdown",
   "id": "6e90e6f3",
   "metadata": {},
   "source": [
    "```bash\n",
    "conda install flake8 pylint mypy\n",
    "```"
   ]
  },
  {
   "cell_type": "code",
   "execution_count": null,
   "id": "5ac01163",
   "metadata": {},
   "outputs": [],
   "source": [
    "# Check code style and errors\n",
    "! flake8 script_1.py"
   ]
  },
  {
   "cell_type": "code",
   "execution_count": null,
   "id": "f2848ebc",
   "metadata": {},
   "outputs": [],
   "source": [
    "! pylint script_1.py"
   ]
  },
  {
   "cell_type": "code",
   "execution_count": null,
   "id": "c0f2af38",
   "metadata": {},
   "outputs": [],
   "source": [
    "# Type checking\n",
    "! mypy script_1.py"
   ]
  },
  {
   "cell_type": "markdown",
   "id": "d310ee43",
   "metadata": {},
   "source": [
    "#### Automatic Code Formatting"
   ]
  },
  {
   "cell_type": "markdown",
   "id": "6bffcfe5",
   "metadata": {},
   "source": [
    "```bash\n",
    "conda install black isort\n",
    "```"
   ]
  },
  {
   "cell_type": "code",
   "execution_count": null,
   "id": "b73415c8",
   "metadata": {},
   "outputs": [],
   "source": [
    "# Format entire file\n",
    "! black script_1.py"
   ]
  },
  {
   "cell_type": "code",
   "execution_count": null,
   "id": "55da2772",
   "metadata": {},
   "outputs": [],
   "source": [
    "# sort imports automatically\n",
    "! isort script_1.py"
   ]
  },
  {
   "cell_type": "markdown",
   "id": "157d1242",
   "metadata": {},
   "source": [
    "```python\n",
    "# Before isort\n",
    "import numpy as np\n",
    "import os \n",
    "import sys\n",
    "\n",
    "# After isort\n",
    "import os \n",
    "import numpy as np\n",
    "import sys\n",
    "```"
   ]
  },
  {
   "cell_type": "markdown",
   "id": "5fe25497",
   "metadata": {},
   "source": [
    "### Key Points:\n",
    "- Use black for consistent formatting\n",
    "- isort automatically sorts imports"
   ]
  },
  {
   "cell_type": "markdown",
   "id": "93ecbce2",
   "metadata": {},
   "source": [
    "<hr style=\"border:1.3px solid gray\">"
   ]
  },
  {
   "cell_type": "markdown",
   "id": "9198e326",
   "metadata": {},
   "source": [
    "## What is an LLM and How to Use It?\n",
    "\n",
    "#### What is an LLM and How to Use It?\n",
    "\n",
    "- LLM = Large Language Model trained on huge datasets of text\n",
    "- Popular examples: GPT-4o, Claude, Gemini, etc\n",
    "- You can type instructions like:\n",
    "   - _Explain Python numeric types_\n",
    "   - _Explain how NumPy broadcasting work_\n",
    "    \n",
    "- LLMs reply instantly with draft code or explanations\n",
    "\n",
    "#### Why (and Why Not) to USE LLMs\n",
    "\n",
    "**Pros**\n",
    "- Fast for prototyping and brainstorming\n",
    "- Offers alternative approaches to problems\n",
    "\n",
    "**Cons**\n",
    "- **Hallucinations**: May return wrong or non-existent functions\n",
    "- **Overconfidence Risk**: Easy to accept answers without verifying\n",
    "- **Not a Substitute for Skills**: Reliance can weaken problem-solving abilities over time\n",
    "- **Data Privacy Concerns**: Your prompts may be stored or used for training"
   ]
  },
  {
   "cell_type": "markdown",
   "id": "fa7b4fa4",
   "metadata": {},
   "source": [
    "<hr style=\"border:1.3px solid gray\">"
   ]
  },
  {
   "cell_type": "code",
   "execution_count": null,
   "id": "1e02fd19",
   "metadata": {},
   "outputs": [],
   "source": []
  }
 ],
 "metadata": {
  "kernelspec": {
   "display_name": "Python 3 (ipykernel)",
   "language": "python",
   "name": "python3"
  },
  "language_info": {
   "codemirror_mode": {
    "name": "ipython",
    "version": 3
   },
   "file_extension": ".py",
   "mimetype": "text/x-python",
   "name": "python",
   "nbconvert_exporter": "python",
   "pygments_lexer": "ipython3",
   "version": "3.12.10"
  }
 },
 "nbformat": 4,
 "nbformat_minor": 5
}
