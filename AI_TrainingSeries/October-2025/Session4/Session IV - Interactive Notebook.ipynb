{
 "cells": [
  {
   "cell_type": "markdown",
   "id": "68f4aa5d",
   "metadata": {},
   "source": [
    "<p style='text-align: right;'> Birkan Emrem </p>\n",
    "<p style='text-align: right;'> 16.10.2025 </p>\n",
    "<p style='text-align: right;'> AI Training Series: Python Refresher: Session IV </p>"
   ]
  },
  {
   "cell_type": "markdown",
   "id": "f7a0116a",
   "metadata": {},
   "source": [
    "## Introduction to Scientific Python Ecosystem\n",
    "#### Why Scientific Python?"
   ]
  },
  {
   "cell_type": "code",
   "execution_count": null,
   "id": "5de18eef",
   "metadata": {},
   "outputs": [],
   "source": [
    "# core scientific packages\n",
    "import numpy as np                    # Numerical computing\n",
    "import pandas as pd                   # Data analysis\n",
    "import matplotlib.pyplot as plt       # Plotting\n",
    "import scipy.stats as stats           # Stats, math\n",
    "import sympy as sp                    # Symbolic math\n",
    "import sklearn                        # Machine-Learning algorithms\n",
    "import torch                          # Deep learning with PyTorch"
   ]
  },
  {
   "cell_type": "markdown",
   "id": "650a2c2b",
   "metadata": {},
   "source": [
    "### Key Points\n",
    "- Built on efficient, low-level libraries\n",
    "- Used in data science, engineering and ML"
   ]
  },
  {
   "cell_type": "markdown",
   "id": "87fd3f58",
   "metadata": {},
   "source": [
    "#### Key libraries overview"
   ]
  },
  {
   "cell_type": "code",
   "execution_count": null,
   "id": "49e8865c",
   "metadata": {},
   "outputs": [],
   "source": [
    "# NumPy array creation\n",
    "arr = np.array([[1, 2], [3, 4]])\n",
    "arr.shape"
   ]
  },
  {
   "cell_type": "code",
   "execution_count": null,
   "id": "5b8dca31",
   "metadata": {},
   "outputs": [],
   "source": [
    "# Pandas DataFrame\n",
    "df = pd.DataFrame({\"A\": [1, 2], \"B\": [3, 4]})\n",
    "df"
   ]
  },
  {
   "cell_type": "code",
   "execution_count": null,
   "id": "5b4bcc62",
   "metadata": {},
   "outputs": [],
   "source": [
    "# simple plot\n",
    "plt.plot([1, 2, 3], [4, 5, 6])"
   ]
  },
  {
   "cell_type": "markdown",
   "id": "7a955469",
   "metadata": {},
   "source": [
    "### Key Points\n",
    "- `NumPy` - array math & broadcasting\n",
    "- `pandas` - tables & time series\n",
    "- `Matplotlib` & `Seaborn` - visualization\n",
    "- `SciPy` - Stats&Math\n",
    "- `scikit-learn` & `PyTorch` - ML&DL"
   ]
  },
  {
   "cell_type": "markdown",
   "id": "785fc85a",
   "metadata": {},
   "source": [
    "<hr style=\"border:1.3px solid gray\">"
   ]
  },
  {
   "cell_type": "markdown",
   "id": "dff5fbc5",
   "metadata": {},
   "source": [
    "## NumPy Basics: Arrays & Operations\n",
    "#### Creating Arrays & Basic Properties"
   ]
  },
  {
   "cell_type": "code",
   "execution_count": null,
   "id": "91f3165e",
   "metadata": {},
   "outputs": [],
   "source": [
    "# code block"
   ]
  },
  {
   "cell_type": "code",
   "execution_count": null,
   "id": "cbe61f0d",
   "metadata": {},
   "outputs": [],
   "source": [
    "print(a.shape)\n",
    "print(a.dtype)\n",
    "print(a.ndim)"
   ]
  },
  {
   "cell_type": "code",
   "execution_count": null,
   "id": "55a9c3a6",
   "metadata": {},
   "outputs": [],
   "source": [
    "# helpers\n",
    "z = np.zeros((2, 3))\n",
    "o = np.ones((2, 3))\n",
    "r = np.random.rand(2, 3)"
   ]
  },
  {
   "cell_type": "markdown",
   "id": "a871937e",
   "metadata": {},
   "source": [
    "### Key Points\n",
    "- arrays are typed, fixed-size and multi-dimensional\n",
    "- `shape`, `dtype`, `ndim` give structure info"
   ]
  },
  {
   "cell_type": "markdown",
   "id": "1fde3b26",
   "metadata": {},
   "source": [
    "#### Array Math & Broadcasting"
   ]
  },
  {
   "cell_type": "code",
   "execution_count": null,
   "id": "22b7437f",
   "metadata": {},
   "outputs": [],
   "source": [
    "x = np.array([1, 2, 3])\n",
    "y = np.array([10, 20, 30])"
   ]
  },
  {
   "cell_type": "code",
   "execution_count": null,
   "id": "0754d985",
   "metadata": {},
   "outputs": [],
   "source": [
    "# Element-wise math\n",
    "print(x+y)\n",
    "print(x*2)"
   ]
  },
  {
   "cell_type": "code",
   "execution_count": null,
   "id": "eb4cc1c8",
   "metadata": {},
   "outputs": [],
   "source": [
    "# Broadcasting\n",
    "m = np.array([[1], [2], [3]])\n",
    "print(m+x)"
   ]
  },
  {
   "cell_type": "code",
   "execution_count": null,
   "id": "f4587731",
   "metadata": {},
   "outputs": [],
   "source": [
    "# Universal functions\n",
    "print(np.mean(x))\n",
    "print(np.std(x))"
   ]
  },
  {
   "cell_type": "markdown",
   "id": "96308c9c",
   "metadata": {},
   "source": [
    "### Key Points\n",
    "- Operations are element-wise by default\n",
    "- Broadcasting streches shapes to match\n",
    "- Avoid loops by using vectorized math"
   ]
  },
  {
   "cell_type": "markdown",
   "id": "d2861062",
   "metadata": {},
   "source": [
    "<hr style=\"border:1.3px solid gray\">"
   ]
  },
  {
   "cell_type": "markdown",
   "id": "c6345b6d",
   "metadata": {},
   "source": [
    "## NumPy Indexing, Reshaping & Aggreation\n",
    "#### Creating Arrays & Basic Properties"
   ]
  },
  {
   "cell_type": "code",
   "execution_count": null,
   "id": "3d5f022a",
   "metadata": {},
   "outputs": [],
   "source": [
    "a = np.array([[5, 6, 7], [13, 14, 15]])"
   ]
  },
  {
   "cell_type": "code",
   "execution_count": null,
   "id": "707126e3",
   "metadata": {},
   "outputs": [],
   "source": [
    "# code block"
   ]
  },
  {
   "cell_type": "code",
   "execution_count": null,
   "id": "bf7e6a9d",
   "metadata": {},
   "outputs": [],
   "source": [
    "# Boolean filtering\n",
    "mask = a > 10\n",
    "print(a[mask])"
   ]
  },
  {
   "cell_type": "code",
   "execution_count": null,
   "id": "c1f88cd3",
   "metadata": {},
   "outputs": [],
   "source": [
    "# modify with mask\n",
    "a[a < 10] = 0\n",
    "a"
   ]
  },
  {
   "cell_type": "markdown",
   "id": "06ba919f",
   "metadata": {},
   "source": [
    "### Key Points\n",
    "- Slices are views\n",
    "- Use boolean masks for filtering"
   ]
  },
  {
   "cell_type": "markdown",
   "id": "610162bf",
   "metadata": {},
   "source": [
    "#### Reshaping & Aggregation"
   ]
  },
  {
   "cell_type": "code",
   "execution_count": null,
   "id": "9aa60eba",
   "metadata": {},
   "outputs": [],
   "source": [
    "b = np.arange(6)\n",
    "c = b.reshape(2, 3)\n",
    "c"
   ]
  },
  {
   "cell_type": "code",
   "execution_count": null,
   "id": "faf3bda6",
   "metadata": {},
   "outputs": [],
   "source": [
    "# code block"
   ]
  },
  {
   "cell_type": "code",
   "execution_count": null,
   "id": "d8460a9e",
   "metadata": {},
   "outputs": [],
   "source": [
    "# Flatten\n",
    "c.ravel()"
   ]
  },
  {
   "cell_type": "code",
   "execution_count": null,
   "id": "6ab99504",
   "metadata": {},
   "outputs": [],
   "source": [
    "# code block"
   ]
  },
  {
   "cell_type": "markdown",
   "id": "4aabec5c",
   "metadata": {},
   "source": [
    "### Key Points\n",
    "- Use `reshape`, `ravel`, and `transpose`\n",
    "- Aggregate over axes"
   ]
  },
  {
   "cell_type": "markdown",
   "id": "70d5292b",
   "metadata": {},
   "source": [
    "<hr style=\"border:1.3px solid gray\">"
   ]
  },
  {
   "cell_type": "markdown",
   "id": "a2cb9c26",
   "metadata": {},
   "source": [
    "## Pandas: Series & DataFrame\n",
    "#### Series: 1D Labeled Data"
   ]
  },
  {
   "cell_type": "code",
   "execution_count": null,
   "id": "e2fb103e",
   "metadata": {},
   "outputs": [],
   "source": [
    "# code block"
   ]
  },
  {
   "cell_type": "code",
   "execution_count": null,
   "id": "72b8930e",
   "metadata": {},
   "outputs": [],
   "source": [
    "# Access by label or position\n",
    "print(s[\"b\"])\n",
    "print(s.iloc[0])"
   ]
  },
  {
   "cell_type": "code",
   "execution_count": null,
   "id": "27395b11",
   "metadata": {},
   "outputs": [],
   "source": [
    "# code block"
   ]
  },
  {
   "cell_type": "markdown",
   "id": "4e5e5118",
   "metadata": {},
   "source": [
    "### Key Points\n",
    "- Series = NumPy array + index\n",
    "- Great for time series, labeled data\n",
    "- Supports vectorized operations"
   ]
  },
  {
   "cell_type": "markdown",
   "id": "2598df39",
   "metadata": {},
   "source": [
    "#### DataFrame: 2D Tabular Data"
   ]
  },
  {
   "cell_type": "code",
   "execution_count": null,
   "id": "57574c25",
   "metadata": {},
   "outputs": [],
   "source": [
    "# create DataFrame\n",
    "df = pd.DataFrame({\n",
    "    \"name\": [\"Alice\", \"Bob\"],\n",
    "    \"age\": [27, 28],\n",
    "    \"score\": [86, 93]\n",
    "})\n",
    "\n",
    "df"
   ]
  },
  {
   "cell_type": "code",
   "execution_count": null,
   "id": "633080c3",
   "metadata": {},
   "outputs": [],
   "source": [
    "# code block"
   ]
  },
  {
   "cell_type": "code",
   "execution_count": null,
   "id": "e9eb5a01",
   "metadata": {},
   "outputs": [],
   "source": [
    "# code block"
   ]
  },
  {
   "cell_type": "markdown",
   "id": "639c25aa",
   "metadata": {},
   "source": [
    "### Key Points\n",
    "- Like a spreadsheet in Python"
   ]
  },
  {
   "cell_type": "markdown",
   "id": "9cfccf19",
   "metadata": {},
   "source": [
    "<hr style=\"border:1.3px solid gray\">"
   ]
  },
  {
   "cell_type": "markdown",
   "id": "93b58e5c",
   "metadata": {},
   "source": [
    "## Pandas: Filtering, Grouping, and Pivoting\n",
    "#### Filtering"
   ]
  },
  {
   "cell_type": "code",
   "execution_count": null,
   "id": "c0c0ce86",
   "metadata": {},
   "outputs": [],
   "source": [
    "import pandas as pd\n",
    "\n",
    "df = pd.DataFrame({\n",
    "    \"name\": [\"Alice\", \"Bob\"],\n",
    "    \"age\": [27, 32],\n",
    "    \"score\": [86, 93]\n",
    "})"
   ]
  },
  {
   "cell_type": "code",
   "execution_count": null,
   "id": "4c6cc141",
   "metadata": {},
   "outputs": [],
   "source": [
    "df"
   ]
  },
  {
   "cell_type": "code",
   "execution_count": null,
   "id": "d76defb9",
   "metadata": {},
   "outputs": [],
   "source": [
    "# code block"
   ]
  },
  {
   "cell_type": "code",
   "execution_count": null,
   "id": "0982c5ef",
   "metadata": {},
   "outputs": [],
   "source": [
    "# Multiple conditions\n",
    "df[(df[\"age\"] <= 29) & (df[\"score\"] < 90)]"
   ]
  },
  {
   "cell_type": "markdown",
   "id": "101c33b4",
   "metadata": {},
   "source": [
    "### Key Points\n",
    "- Use conditions to filter rows\n",
    "- Combine filters with `&` and `|`"
   ]
  },
  {
   "cell_type": "markdown",
   "id": "d1016373",
   "metadata": {},
   "source": [
    "#### GroupBy & Pivot Tables"
   ]
  },
  {
   "cell_type": "code",
   "execution_count": null,
   "id": "0310f71d",
   "metadata": {},
   "outputs": [],
   "source": [
    "data = pd.DataFrame({\n",
    "    \"dept\": [\"HR\", \"HR\", \"IT\", \"IT\"],\n",
    "    \"salary\": [5e3, 5.6e3, 7.3e3, 7.7e3]\n",
    "})\n",
    "data"
   ]
  },
  {
   "cell_type": "code",
   "execution_count": null,
   "id": "ba3761f2",
   "metadata": {},
   "outputs": [],
   "source": [
    "# Group & aggregate\n",
    "data.groupby(\"dept\").agg(([\"mean\", \"max\"]))"
   ]
  },
  {
   "cell_type": "code",
   "execution_count": null,
   "id": "9c22a826",
   "metadata": {},
   "outputs": [],
   "source": [
    "# Pivot table\n",
    "pd.pivot_table(data, values=\"salary\", index=\"dept\", aggfunc=\"mean\")"
   ]
  },
  {
   "cell_type": "markdown",
   "id": "8f6d9c8c",
   "metadata": {},
   "source": [
    "<hr style=\"border:1.3px solid gray\">"
   ]
  },
  {
   "cell_type": "markdown",
   "id": "476011c8",
   "metadata": {},
   "source": [
    "## Matplotlib: Line, Bar and Scatter Plots\n",
    "#### Line & Bar Plots"
   ]
  },
  {
   "cell_type": "code",
   "execution_count": null,
   "id": "c5cb4bce",
   "metadata": {},
   "outputs": [],
   "source": [
    "# code block"
   ]
  },
  {
   "cell_type": "code",
   "execution_count": null,
   "id": "fa71c2f5",
   "metadata": {},
   "outputs": [],
   "source": [
    "# Bar Plot\n",
    "plt.bar([\"A\", \"B\", \"C\"], [5, 7, 3])\n",
    "\n",
    "# Titles and labels\n",
    "plt.title(\"Sample Plot\")\n",
    "plt.xlabel(\"X-axis\")\n",
    "plt.ylabel(\"Y-axis\")\n",
    "plt.show()"
   ]
  },
  {
   "cell_type": "markdown",
   "id": "ae23e624",
   "metadata": {},
   "source": [
    "### Scatter Plots & Quick Customization"
   ]
  },
  {
   "cell_type": "code",
   "execution_count": null,
   "id": "04aadf53",
   "metadata": {},
   "outputs": [],
   "source": [
    "import numpy as np\n",
    "\n",
    "# Random scatter data\n",
    "x = np.random.rand(50)\n",
    "y = np.random.rand(50)\n",
    "szs = np.random.randint(20, 200, 50)\n",
    "\n",
    "plt.scatter(x,y, s=szs, c=\"red\", alpha=0.5)\n",
    "plt.title(\"Scatter Plot\")\n",
    "plt.grid(True)\n",
    "plt.xlabel(\"Feature X\")\n",
    "plt.ylabel(\"Feature Y\")\n",
    "plt.show()"
   ]
  },
  {
   "cell_type": "markdown",
   "id": "07058121",
   "metadata": {},
   "source": [
    "### Key Points:\n",
    "- Control color, size and markers\n",
    "- Use alpha, grid and style for readability"
   ]
  },
  {
   "cell_type": "markdown",
   "id": "67c9997f",
   "metadata": {},
   "source": [
    "<hr style=\"border:1.3px solid gray\">"
   ]
  },
  {
   "cell_type": "markdown",
   "id": "f6438db1",
   "metadata": {},
   "source": [
    "## Matplotlib: Subplots, Styling, Annotations\n",
    "#### Creating Subplots"
   ]
  },
  {
   "cell_type": "code",
   "execution_count": null,
   "id": "92b97412",
   "metadata": {},
   "outputs": [],
   "source": [
    "import matplotlib.pyplot as plt\n",
    "\n",
    "x = [1, 2, 3]\n",
    "y1 = [1, 4, 9]\n",
    "y2 = [1, 2, 3]"
   ]
  },
  {
   "cell_type": "code",
   "execution_count": null,
   "id": "06513130",
   "metadata": {},
   "outputs": [],
   "source": [
    "# code block"
   ]
  },
  {
   "cell_type": "markdown",
   "id": "62b41217",
   "metadata": {},
   "source": [
    "### Key Points:\n",
    "- Use `plt.subplots()` for multiple plots"
   ]
  },
  {
   "cell_type": "markdown",
   "id": "48242053",
   "metadata": {},
   "source": [
    "#### Styling & Annotations"
   ]
  },
  {
   "cell_type": "code",
   "execution_count": null,
   "id": "c3efd61e",
   "metadata": {},
   "outputs": [],
   "source": [
    "plt.figure(figsize=(6,4))\n",
    "plt.plot(x,y1, linestyle=\"-\",linewidth=0.6)\n",
    "\n",
    "# Annotate point\n",
    "plt.annotate(\"Peak\", xy=(3,9),\n",
    "   xytext = (2.5, 10),\n",
    "   arrowprops = dict(facecolor=\"black\"))\n",
    "\n",
    "plt.title(\"Styled Plot with Annotation\")\n",
    "plt.xlabel(\"X\")\n",
    "plt.ylabel(\"Y\")\n",
    "plt.grid(True)\n",
    "plt.show()"
   ]
  },
  {
   "cell_type": "markdown",
   "id": "7b6d779f",
   "metadata": {},
   "source": [
    "### Key Points:\n",
    "- Change colors, markers, linestyles\n",
    "- Add text annotations\n",
    "- Use figsize for presentation control"
   ]
  },
  {
   "cell_type": "markdown",
   "id": "2a8b7f09",
   "metadata": {},
   "source": [
    "<hr style=\"border:1.3px solid gray\">"
   ]
  },
  {
   "cell_type": "markdown",
   "id": "694f3a2c",
   "metadata": {},
   "source": [
    "## Seaborn: Statistical Visualization\n",
    "#### Why Use Seaborn?"
   ]
  },
  {
   "cell_type": "code",
   "execution_count": null,
   "id": "9a77d2ab",
   "metadata": {},
   "outputs": [],
   "source": [
    "import seaborn as sns\n",
    "import matplotlib.pyplot as plt"
   ]
  },
  {
   "cell_type": "code",
   "execution_count": null,
   "id": "759a5894",
   "metadata": {},
   "outputs": [],
   "source": [
    "# Sample Data\n",
    "tips = sns.load_dataset(\"tips\")\n",
    "tips"
   ]
  },
  {
   "cell_type": "code",
   "execution_count": null,
   "id": "5a044fad",
   "metadata": {},
   "outputs": [],
   "source": [
    "# code block"
   ]
  },
  {
   "cell_type": "markdown",
   "id": "073333dd",
   "metadata": {},
   "source": [
    "#### Pair, Box & Heatmaps"
   ]
  },
  {
   "cell_type": "code",
   "execution_count": null,
   "id": "31647ead",
   "metadata": {},
   "outputs": [],
   "source": [
    "# Pairplot for numeric comparisons\n",
    "sns.pairplot(tips, hue=\"sex\")\n",
    "plt.show()"
   ]
  },
  {
   "cell_type": "code",
   "execution_count": null,
   "id": "1d1d6d3e",
   "metadata": {},
   "outputs": [],
   "source": [
    "# codeblock"
   ]
  },
  {
   "cell_type": "code",
   "execution_count": null,
   "id": "fa0c9234",
   "metadata": {},
   "outputs": [],
   "source": [
    "# Heatmap of correlation\n",
    "corr = tips.corr(numeric_only=True)\n",
    "sns.heatmap(corr, annot=True, cmap=\"magma\")\n",
    "plt.title(\"Correlation Matrix\")\n",
    "plt.show()"
   ]
  },
  {
   "cell_type": "markdown",
   "id": "5ae16279",
   "metadata": {},
   "source": [
    "### Key Points:\n",
    "- `pairplot()` shows variable relationships\n",
    "- `boxplot()` shows distributions & outliers\n",
    "- `heatmap()` visualizes correlation matrices"
   ]
  },
  {
   "cell_type": "markdown",
   "id": "1d4a3292",
   "metadata": {},
   "source": [
    "<hr style=\"border:1.3px solid gray\">"
   ]
  },
  {
   "cell_type": "markdown",
   "id": "c50c8b3d",
   "metadata": {},
   "source": [
    "## SciPy: Stats & Probability\n",
    "#### Distributions and Sampling"
   ]
  },
  {
   "cell_type": "code",
   "execution_count": null,
   "id": "2f989135",
   "metadata": {},
   "outputs": [],
   "source": [
    "from scipy import stats\n",
    "import numpy as np"
   ]
  },
  {
   "cell_type": "code",
   "execution_count": null,
   "id": "4e4be43f",
   "metadata": {},
   "outputs": [],
   "source": [
    "# code block"
   ]
  },
  {
   "cell_type": "code",
   "execution_count": null,
   "id": "a5f59afa",
   "metadata": {},
   "outputs": [],
   "source": [
    "# Random samples\n",
    "smp = stats.norm.rvs(loc=0,scale=1,size=5)\n",
    "print(\"Samples:\", smp)"
   ]
  },
  {
   "cell_type": "code",
   "execution_count": null,
   "id": "c33a9599",
   "metadata": {},
   "outputs": [],
   "source": [
    "# Mean and variance\n",
    "print(stats.norm.stats(moments=\"mv\"))"
   ]
  },
  {
   "cell_type": "markdown",
   "id": "a0ac3b6f",
   "metadata": {},
   "source": [
    "### Key Points:\n",
    "- `scipy.stats` includes common distributions"
   ]
  },
  {
   "cell_type": "markdown",
   "id": "9509142f",
   "metadata": {},
   "source": [
    "#### Statistical Tests"
   ]
  },
  {
   "cell_type": "code",
   "execution_count": null,
   "id": "5f08976a",
   "metadata": {},
   "outputs": [],
   "source": [
    "# t-test: compare two groups\n",
    "group1 = [14, 15, 16, 15]\n",
    "group2 = [13, 14, 14, 13]\n",
    "\n",
    "t_stat,p_val = stats.ttest_ind(group1, group2)\n",
    "print(f\"t={t_stat:.2f}, p={p_val:.3f}\")"
   ]
  },
  {
   "cell_type": "code",
   "execution_count": null,
   "id": "ccca23fa",
   "metadata": {},
   "outputs": [],
   "source": [
    "# chi-square test\n",
    "observed = [10, 20, 30]\n",
    "expected = [15, 15, 30]\n",
    "chi2,p = stats.chisquare(f_obs=observed, \n",
    "           f_exp=expected)\n",
    "print(f\"chi^2={chi2:.2f}, p={p:.3f}\")"
   ]
  },
  {
   "cell_type": "markdown",
   "id": "257b2b41",
   "metadata": {},
   "source": [
    "### Key Points:\n",
    "- Use t-tests for means\n",
    "- Use chi-square for independence"
   ]
  },
  {
   "cell_type": "markdown",
   "id": "2fc18e80",
   "metadata": {},
   "source": [
    "<hr style=\"border:1.3px solid gray\">"
   ]
  },
  {
   "cell_type": "markdown",
   "id": "6ea8855e",
   "metadata": {},
   "source": [
    "## SciPy: Optimization & Interpolation\n",
    "#### Function Minimization"
   ]
  },
  {
   "cell_type": "code",
   "execution_count": null,
   "id": "226dbde0",
   "metadata": {},
   "outputs": [],
   "source": [
    "from scipy.optimize import minimize\n",
    "import numpy as np"
   ]
  },
  {
   "cell_type": "code",
   "execution_count": null,
   "id": "d97acee7",
   "metadata": {},
   "outputs": [],
   "source": [
    "# Function to minimize\n",
    "def f(x):\n",
    "    return (x-3)**2 + 10"
   ]
  },
  {
   "cell_type": "code",
   "execution_count": null,
   "id": "846e5387",
   "metadata": {},
   "outputs": [],
   "source": [
    "# code block"
   ]
  },
  {
   "cell_type": "markdown",
   "id": "14bc96e6",
   "metadata": {},
   "source": [
    "### Key Points:\n",
    "- Use `scipy.optimize.minimize()` for scalar functions\n",
    "- Works for custom defined functions"
   ]
  },
  {
   "cell_type": "markdown",
   "id": "4374b0b2",
   "metadata": {},
   "source": [
    "#### 1D Interpolation"
   ]
  },
  {
   "cell_type": "code",
   "execution_count": null,
   "id": "b7d0aee5",
   "metadata": {},
   "outputs": [],
   "source": [
    "from scipy.interpolate import interp1d\n",
    "import numpy as np\n",
    "import matplotlib.pyplot as plt"
   ]
  },
  {
   "cell_type": "code",
   "execution_count": null,
   "id": "31cb8a75",
   "metadata": {},
   "outputs": [],
   "source": [
    "# Known data\n",
    "x = np.array([0, 1, 2, 3])\n",
    "y = np.array([0, 2, 1, 3])"
   ]
  },
  {
   "cell_type": "code",
   "execution_count": null,
   "id": "ca0a1b77",
   "metadata": {},
   "outputs": [],
   "source": [
    "# Interpolate\n",
    "f = interp1d(x, y, kind=\"cubic\")\n",
    "x_new = np.linspace(0, 3, 100)\n",
    "y_new = f(x_new)"
   ]
  },
  {
   "cell_type": "code",
   "execution_count": null,
   "id": "8b8a808a",
   "metadata": {},
   "outputs": [],
   "source": [
    "plt.plot(x, y, \"o\", label=\"data\")\n",
    "plt.plot(x_new, y_new, label=\"cubic\")\n",
    "plt.legend()\n",
    "plt.show()"
   ]
  },
  {
   "cell_type": "markdown",
   "id": "5e6f9d97",
   "metadata": {},
   "source": [
    "<hr style=\"border:1.3px solid gray\">"
   ]
  },
  {
   "cell_type": "markdown",
   "id": "e0613bbc",
   "metadata": {},
   "source": [
    "## SymPy: Symbolic Math\n",
    "#### Expressions"
   ]
  },
  {
   "cell_type": "code",
   "execution_count": null,
   "id": "dccc4121",
   "metadata": {},
   "outputs": [],
   "source": [
    "import sympy as sp"
   ]
  },
  {
   "cell_type": "code",
   "execution_count": null,
   "id": "5c2d0913",
   "metadata": {},
   "outputs": [],
   "source": [
    "# Define symbols\n",
    "x, y = sp.symbols(\"x y\")\n",
    "\n",
    "# Build expression\n",
    "expr = (x + y)**2"
   ]
  },
  {
   "cell_type": "code",
   "execution_count": null,
   "id": "e66f47b9",
   "metadata": {},
   "outputs": [],
   "source": [
    "# Expand and simplify"
   ]
  },
  {
   "cell_type": "markdown",
   "id": "904221b9",
   "metadata": {},
   "source": [
    "### Key Points:\n",
    "- Use symbols for algebraic expressions\n",
    "- Perform expansion, factoring and simplification"
   ]
  },
  {
   "cell_type": "markdown",
   "id": "e5cc72ff",
   "metadata": {},
   "source": [
    "#### Calculus & Equation Solving"
   ]
  },
  {
   "cell_type": "code",
   "execution_count": null,
   "id": "383a921a",
   "metadata": {},
   "outputs": [],
   "source": [
    "# Derivate and integral\n",
    "f = x**3 + 2*x\n",
    "df = sp.diff(f, x)\n",
    "F = sp.integrate(f, x)"
   ]
  },
  {
   "cell_type": "code",
   "execution_count": null,
   "id": "2ca0af11",
   "metadata": {},
   "outputs": [],
   "source": [
    "# Solve equations\n",
    "sol = sp.solve(x**2 - 4, x)\n",
    "\n",
    "# Limits\n",
    "lim = sp.limit(sp.sin(x)/x, x, 0)"
   ]
  },
  {
   "cell_type": "code",
   "execution_count": null,
   "id": "5a0f5c7a",
   "metadata": {},
   "outputs": [],
   "source": [
    "print(\"Derivative:\", df)\n",
    "print(\"Integral:\", F)\n",
    "print(\"Roots:\", sol)\n",
    "print(\"Limit:\", lim)"
   ]
  },
  {
   "cell_type": "markdown",
   "id": "3f30a3a3",
   "metadata": {},
   "source": [
    "<hr style=\"border:1.3px solid gray\">"
   ]
  },
  {
   "cell_type": "markdown",
   "id": "33fa3e9e",
   "metadata": {},
   "source": [
    "## `scikit-learn`: ML Workflow & Classification\n",
    "#### Build your first ML model"
   ]
  },
  {
   "cell_type": "code",
   "execution_count": null,
   "id": "a5ddb08e",
   "metadata": {},
   "outputs": [],
   "source": [
    "from sklearn.datasets import load_iris\n",
    "from sklearn.model_selection import train_test_split\n",
    "from sklearn.tree import  DecisionTreeClassifier"
   ]
  },
  {
   "cell_type": "code",
   "execution_count": null,
   "id": "459e1211",
   "metadata": {},
   "outputs": [],
   "source": [
    "# Load data\n",
    "X, y = load_iris(return_X_y=True)"
   ]
  },
  {
   "cell_type": "code",
   "execution_count": null,
   "id": "35f5facc",
   "metadata": {},
   "outputs": [],
   "source": [
    "# Split into train/test\n",
    "X_train, X_test, y_train, y_test = train_test_split(X, y)"
   ]
  },
  {
   "cell_type": "code",
   "execution_count": null,
   "id": "847b0670",
   "metadata": {},
   "outputs": [],
   "source": [
    "# Set model and train\n",
    "model = DecisionTreeClassifier()\n",
    "model.fit(X_train, y_train)"
   ]
  },
  {
   "cell_type": "code",
   "execution_count": null,
   "id": "62e6a9ce",
   "metadata": {},
   "outputs": [],
   "source": [
    "# Accuracy\n",
    "accuracy = model.score(X_test, y_test)\n",
    "print(\"Accuracy:\", accuracy)"
   ]
  },
  {
   "cell_type": "markdown",
   "id": "4da9b1a7",
   "metadata": {},
   "source": [
    "#### Pipelines and Preprocessing"
   ]
  },
  {
   "cell_type": "code",
   "execution_count": null,
   "id": "92fe1242",
   "metadata": {},
   "outputs": [],
   "source": [
    "from sklearn.pipeline import Pipeline\n",
    "from sklearn.preprocessing import StandardScaler\n",
    "from sklearn.linear_model import LogisticRegression"
   ]
  },
  {
   "cell_type": "code",
   "execution_count": null,
   "id": "f3e1fada",
   "metadata": {},
   "outputs": [],
   "source": [
    "# pipeline\n",
    "pipe = Pipeline([\n",
    " (\"scaler\", StandardScaler()),\n",
    " (\"clf\", LogisticRegression())\n",
    "])"
   ]
  },
  {
   "cell_type": "code",
   "execution_count": null,
   "id": "6ae6d0eb",
   "metadata": {},
   "outputs": [],
   "source": [
    "pipe.fit(X_train, y_train)\n",
    "accuracy = pipe.score(X_test, y_test)\n",
    "print(\"Pipeline score:\", accuracy)"
   ]
  },
  {
   "cell_type": "markdown",
   "id": "833ea18f",
   "metadata": {},
   "source": [
    "### Key Points:\n",
    "- Split > Train > Predict > Evaluate\n",
    "- Use structured data (NumPy, pandas)"
   ]
  },
  {
   "cell_type": "markdown",
   "id": "e8ad7662",
   "metadata": {},
   "source": [
    "<hr style=\"border:1.3px solid gray\">"
   ]
  },
  {
   "cell_type": "markdown",
   "id": "b24e4655",
   "metadata": {},
   "source": [
    "## PyTorch and Tensors\n",
    "#### Working with Tensors"
   ]
  },
  {
   "cell_type": "code",
   "execution_count": null,
   "id": "973026a1",
   "metadata": {},
   "outputs": [],
   "source": [
    "import torch"
   ]
  },
  {
   "cell_type": "code",
   "execution_count": null,
   "id": "ef06ea8c",
   "metadata": {},
   "outputs": [],
   "source": [
    "a = torch.tensor([1.0, 2.0, 3.0])\n",
    "b = torch.tensor([4.0, 5.0, 6.0])\n",
    "c = a + b"
   ]
  },
  {
   "cell_type": "code",
   "execution_count": null,
   "id": "d56ff6dd",
   "metadata": {},
   "outputs": [],
   "source": [
    "print(\"Sum:\", c)\n",
    "print(\"Shape:\", c.shape)\n",
    "print(\"Data type:\", c.dtype)\n",
    "print(\"Device:\", c.device)"
   ]
  },
  {
   "cell_type": "markdown",
   "id": "a8fdd511",
   "metadata": {},
   "source": [
    "### Key Points:\n",
    "- Tensors = NumPy-like arrays\n",
    "- Basis of all PyTorch operations\n",
    "- Good starting point for deep learning"
   ]
  },
  {
   "cell_type": "markdown",
   "id": "9e75ca5f",
   "metadata": {},
   "source": [
    "#### Tensors on GPU"
   ]
  },
  {
   "cell_type": "code",
   "execution_count": null,
   "id": "894d92c6",
   "metadata": {},
   "outputs": [],
   "source": [
    "x = torch.randn(2, 3)\n",
    "print(\"CPU Tensor:\", x)"
   ]
  },
  {
   "cell_type": "code",
   "execution_count": null,
   "id": "19624f67",
   "metadata": {},
   "outputs": [],
   "source": [
    "if torch.cuda.is_available():\n",
    "    x_gpu = x.to(\"cuda\")\n",
    "    print(\"Moved to GPU\")\n",
    "    print(\"New device:\", x_gpu.device)\n",
    "else:\n",
    "    print(\"CUDA not available\")"
   ]
  },
  {
   "cell_type": "markdown",
   "id": "f92b4f9b",
   "metadata": {},
   "source": [
    "### Key Points:\n",
    "- `.to(“cuda“)` moves tensors to GPU\n",
    "- Same syntax for CPU vs. GPU tensors\n",
    "- Critical for high-performance training"
   ]
  },
  {
   "cell_type": "markdown",
   "id": "27a2bd27",
   "metadata": {},
   "source": [
    "<hr style=\"border:1.3px solid gray\">"
   ]
  },
  {
   "cell_type": "code",
   "execution_count": null,
   "id": "cfba64b9",
   "metadata": {},
   "outputs": [],
   "source": []
  }
 ],
 "metadata": {
  "kernelspec": {
   "display_name": "Python 3 (ipykernel)",
   "language": "python",
   "name": "python3"
  },
  "language_info": {
   "codemirror_mode": {
    "name": "ipython",
    "version": 3
   },
   "file_extension": ".py",
   "mimetype": "text/x-python",
   "name": "python",
   "nbconvert_exporter": "python",
   "pygments_lexer": "ipython3",
   "version": "3.12.10"
  }
 },
 "nbformat": 4,
 "nbformat_minor": 5
}
