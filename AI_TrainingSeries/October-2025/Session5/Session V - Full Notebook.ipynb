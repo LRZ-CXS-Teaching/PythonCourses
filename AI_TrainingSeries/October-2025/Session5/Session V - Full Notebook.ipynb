{
 "cells": [
  {
   "cell_type": "markdown",
   "id": "499dcecf",
   "metadata": {},
   "source": [
    "<p style='text-align: right;'> Birkan Emrem </p>\n",
    "<p style='text-align: right;'> 16.10.2025 </p>\n",
    "<p style='text-align: right;'> AI Training Series: Python Refresher: Session V </p>"
   ]
  },
  {
   "cell_type": "markdown",
   "id": "57c6a604",
   "metadata": {},
   "source": [
    "## Introduction to Parallel Computing\n",
    "#### Parallel Execution with Processes"
   ]
  },
  {
   "cell_type": "code",
   "execution_count": null,
   "id": "4e0e79ee",
   "metadata": {},
   "outputs": [],
   "source": [
    "import concurrent.futures as cf\n",
    "import os"
   ]
  },
  {
   "cell_type": "code",
   "execution_count": null,
   "id": "ebadbdaa",
   "metadata": {},
   "outputs": [],
   "source": [
    "# Function to square\n",
    "def sr(n):\n",
    "    return (os.getpid(), n, n * n)"
   ]
  },
  {
   "cell_type": "code",
   "execution_count": null,
   "id": "006d8d80",
   "metadata": {},
   "outputs": [],
   "source": [
    "# Use multiple process to execute\n",
    "if __name__ == \"__main__\":\n",
    "    with cf.ProcessPoolExecutor() as exc:\n",
    "        re = list(exc.map(sr,range(5)))\n",
    "    \n",
    "    for p, n, s in re:\n",
    "        print(f\"Prc {p} handl. {n},sq: {s}\")\n",
    "    \n",
    "    print(\"List:\", [sq for _, _, sq in re])"
   ]
  },
  {
   "cell_type": "markdown",
   "id": "f4b8fe5a",
   "metadata": {},
   "source": [
    "### Key Points:\n",
    "- Uses multiple CPU cores\n",
    "- Each is a separate process\n",
    "- Efficient for CPU-bound tasks"
   ]
  },
  {
   "cell_type": "markdown",
   "id": "a6ceae65",
   "metadata": {},
   "source": [
    "#### Sequential Baseline for Comparison"
   ]
  },
  {
   "cell_type": "code",
   "execution_count": null,
   "id": "67b0bb6b",
   "metadata": {},
   "outputs": [],
   "source": [
    "import time"
   ]
  },
  {
   "cell_type": "code",
   "execution_count": null,
   "id": "95d9ce0a",
   "metadata": {},
   "outputs": [],
   "source": [
    "# Function to square with delay\n",
    "def sr(n):\n",
    "    print(\"Prc\", os.getpid(), \"handling\", n)\n",
    "    time.sleep(1)\n",
    "    return n*n"
   ]
  },
  {
   "cell_type": "code",
   "execution_count": null,
   "id": "8c16fc16",
   "metadata": {},
   "outputs": [],
   "source": [
    "results = []\n",
    "# Execute sequentially in a single process\n",
    "for i in [1, 2, 3, 4, 5]:\n",
    "    results.append(sr(i))\n",
    "\n",
    "print(\"Squared:\", results)"
   ]
  },
  {
   "cell_type": "markdown",
   "id": "2a8601af",
   "metadata": {},
   "source": [
    "### Key Points:\n",
    "- Takes ~5 seconds\n",
    "- Single process handles all work\n",
    "- No parallelism or concurrency"
   ]
  },
  {
   "cell_type": "markdown",
   "id": "e6554d97",
   "metadata": {},
   "source": [
    "<hr style=\"border:1.3px solid gray\">"
   ]
  },
  {
   "cell_type": "markdown",
   "id": "3e3b1a64",
   "metadata": {},
   "source": [
    "## CPU-bound vs I/O-bound Tasks\n",
    "#### CPU-bound"
   ]
  },
  {
   "cell_type": "code",
   "execution_count": null,
   "id": "8362aaf5",
   "metadata": {},
   "outputs": [],
   "source": [
    "import time"
   ]
  },
  {
   "cell_type": "code",
   "execution_count": null,
   "id": "02d4ee94",
   "metadata": {},
   "outputs": [],
   "source": [
    "# Function for heavy computation\n",
    "def compute():\n",
    "    total = 0\n",
    "    for i in range(100_000_000):\n",
    "        total += i*i\n",
    "    return total"
   ]
  },
  {
   "cell_type": "code",
   "execution_count": null,
   "id": "b134ceb3",
   "metadata": {},
   "outputs": [],
   "source": [
    "start = time.perf_counter()\n",
    "result = compute()\n",
    "end = time.perf_counter()"
   ]
  },
  {
   "cell_type": "code",
   "execution_count": null,
   "id": "94eb3d26",
   "metadata": {},
   "outputs": [],
   "source": [
    "print(\"Result:\", result)\n",
    "print(\"Time:\", round(end-start, 2), \"s\")"
   ]
  },
  {
   "cell_type": "markdown",
   "id": "ed31f6e8",
   "metadata": {},
   "source": [
    "## Key Points:\n",
    "- Keeps CPU fully busy\n",
    "- Work is continous, no waiting\n",
    "- Use processes for speed-up"
   ]
  },
  {
   "cell_type": "markdown",
   "id": "9abd057b",
   "metadata": {},
   "source": [
    "#### I/O-bound"
   ]
  },
  {
   "cell_type": "code",
   "execution_count": null,
   "id": "e15b49b2",
   "metadata": {},
   "outputs": [],
   "source": [
    "# Function to simulate I/O delay\n",
    "def fetch_data():\n",
    "    print(\"Fetching data ...\")\n",
    "    time.sleep(2)\n",
    "    return \"Done\""
   ]
  },
  {
   "cell_type": "code",
   "execution_count": null,
   "id": "1f783a42",
   "metadata": {},
   "outputs": [],
   "source": [
    "start = time.perf_counter()\n",
    "result = fetch_data()\n",
    "end = time.perf_counter()\n",
    "\n",
    "print(\"Result:\", result)\n",
    "print(\"Time:\", round(end-start, 2), \"s\")"
   ]
  },
  {
   "cell_type": "markdown",
   "id": "3aeb7bc4",
   "metadata": {},
   "source": [
    "## Key Points:\n",
    "- CPU mostly idle while waiting\n",
    "- Common in file, network, or DB operations\n",
    "- Suited for threading, not processes"
   ]
  },
  {
   "cell_type": "markdown",
   "id": "0d8f1dbe",
   "metadata": {},
   "source": [
    "<hr style=\"border:1.3px solid gray\">"
   ]
  },
  {
   "cell_type": "markdown",
   "id": "435cb416",
   "metadata": {},
   "source": [
    "## Threading Basics\n",
    "#### Creating and Starting a Thread"
   ]
  },
  {
   "cell_type": "code",
   "execution_count": null,
   "id": "c1c351f4",
   "metadata": {},
   "outputs": [],
   "source": [
    "import threading as th\n",
    "import time"
   ]
  },
  {
   "cell_type": "code",
   "execution_count": null,
   "id": "70e1957d",
   "metadata": {},
   "outputs": [],
   "source": [
    "def greet(name):\n",
    "    print(\"Hello, \", name)\n",
    "    time.sleep(1)\n",
    "    print(\"Goodbye, \", name)"
   ]
  },
  {
   "cell_type": "code",
   "execution_count": null,
   "id": "a44b0091",
   "metadata": {},
   "outputs": [],
   "source": [
    "# Create a thread that runs the function\n",
    "t = th.Thread(target=greet, args=(\"Bob\", ))\n",
    "t.start()\n",
    "t.join()\n",
    "\n",
    "print(\"Main thread finished\")"
   ]
  },
  {
   "cell_type": "markdown",
   "id": "8b3a3ffe",
   "metadata": {},
   "source": [
    "### Key Points:\n",
    "- Use Thread to run a function concurrently\n",
    "- `start()` begins a thread execution\n",
    "- `join()` blocks until it finishes\n",
    "- Useful for I/O-bound tasks"
   ]
  },
  {
   "cell_type": "markdown",
   "id": "0749a99e",
   "metadata": {},
   "source": [
    "#### Running Multiple Threads"
   ]
  },
  {
   "cell_type": "code",
   "execution_count": null,
   "id": "72aae56c",
   "metadata": {},
   "outputs": [],
   "source": [
    "def worker(i):\n",
    "    print(\"Thread\", i, \"started\")\n",
    "    time.sleep(1)\n",
    "    print(\"Thread\", i, \"ended\")"
   ]
  },
  {
   "cell_type": "code",
   "execution_count": null,
   "id": "f133e954",
   "metadata": {},
   "outputs": [],
   "source": [
    "threads = []\n",
    "# Create and start 3 threads\n",
    "for i in range(3):\n",
    "    t = th.Thread(target=worker, args=(i, ))\n",
    "    t.start()\n",
    "    threads.append(t)\n",
    "\n",
    "for t in threads:\n",
    "    t.join()"
   ]
  },
  {
   "cell_type": "markdown",
   "id": "b8210005",
   "metadata": {},
   "source": [
    "### Key Points:\n",
    "- Start many threads in a loop\n",
    "- All threads share memory"
   ]
  },
  {
   "cell_type": "markdown",
   "id": "b1b0d98e",
   "metadata": {},
   "source": [
    "<hr style=\"border:1.3px solid gray\">"
   ]
  },
  {
   "cell_type": "markdown",
   "id": "40d73045",
   "metadata": {},
   "source": [
    "## Global Interpreter Lock (GIL)\n",
    "#### Threading May Fail for CPU Tasks"
   ]
  },
  {
   "cell_type": "code",
   "execution_count": null,
   "id": "f298469f",
   "metadata": {},
   "outputs": [],
   "source": [
    "import threading as th\n",
    "\n",
    "x = 0\n",
    "def increment(): #Function that increment global x\n",
    "    global x\n",
    "    for _ in range(100_000):\n",
    "        x += 1 # Not thread safe due to GIL!"
   ]
  },
  {
   "cell_type": "code",
   "execution_count": null,
   "id": "7dacaee2",
   "metadata": {},
   "outputs": [],
   "source": [
    "# Start 2 threads that run increment concurrently\n",
    "t1 = th.Thread(target=increment)\n",
    "t2 = th.Thread(target=increment)"
   ]
  },
  {
   "cell_type": "code",
   "execution_count": null,
   "id": "5fe7505a",
   "metadata": {},
   "outputs": [],
   "source": [
    "t1.start(); t2.start()\n",
    "t1.join(); t2.join()\n",
    "print(\"Final x: \", x)"
   ]
  },
  {
   "cell_type": "markdown",
   "id": "70b242e4",
   "metadata": {},
   "source": [
    "### Key Points:\n",
    "- Threads can‘t run Python bytecode in parallel\n",
    "- The GIL prevents true CPU-bound threading\n",
    "- Final result may be wrong"
   ]
  },
  {
   "cell_type": "markdown",
   "id": "afe228bd",
   "metadata": {},
   "source": [
    "#### Multiprocessing Avoids the GIL"
   ]
  },
  {
   "cell_type": "code",
   "execution_count": null,
   "id": "2848462a",
   "metadata": {},
   "outputs": [],
   "source": [
    "import multiprocessing as mp"
   ]
  },
  {
   "cell_type": "code",
   "execution_count": null,
   "id": "f4835bf6",
   "metadata": {},
   "outputs": [],
   "source": [
    "def compute():\n",
    "    total = 0\n",
    "    for i in range(10**6):\n",
    "        total += i\n",
    "    print(\"Done:\", total)"
   ]
  },
  {
   "cell_type": "code",
   "execution_count": null,
   "id": "011dfe83",
   "metadata": {},
   "outputs": [],
   "source": [
    "p1 = mp.Process(target=compute)\n",
    "p2 = mp.Process(target=compute)"
   ]
  },
  {
   "cell_type": "code",
   "execution_count": null,
   "id": "a4e8c686",
   "metadata": {},
   "outputs": [],
   "source": [
    "p1.start(); p2.start()\n",
    "p1.join(); p2.join()"
   ]
  },
  {
   "cell_type": "markdown",
   "id": "a657c002",
   "metadata": {},
   "source": [
    "### Key Points:\n",
    "- True CPU parallelism across cores\n",
    "- Bypasses the GIL entirely\n",
    "- Each process runs in its own Python interpreter"
   ]
  },
  {
   "cell_type": "markdown",
   "id": "4d1e7a55",
   "metadata": {},
   "source": [
    "<hr style=\"border:1.3px solid gray\">"
   ]
  },
  {
   "cell_type": "markdown",
   "id": "e019af75",
   "metadata": {},
   "source": [
    "## Multiprocessing Basics\n",
    "#### Creating a Single Process"
   ]
  },
  {
   "cell_type": "code",
   "execution_count": null,
   "id": "aca02bb1",
   "metadata": {},
   "outputs": [],
   "source": [
    "import multiprocessing as mp"
   ]
  },
  {
   "cell_type": "code",
   "execution_count": null,
   "id": "aced3f62",
   "metadata": {},
   "outputs": [],
   "source": [
    "def say_hello():\n",
    "    print(\"Hello from a separate process!\")"
   ]
  },
  {
   "cell_type": "code",
   "execution_count": null,
   "id": "b2c7b075",
   "metadata": {},
   "outputs": [],
   "source": [
    "if __name__ == \"__main__\":\n",
    "    p = mp.Process(target=say_hello)\n",
    "    p.start()\n",
    "    p.join()\n",
    "\n",
    "    print(\"Main process finished\")"
   ]
  },
  {
   "cell_type": "markdown",
   "id": "df6caf01",
   "metadata": {},
   "source": [
    "### Key Points:\n",
    "- `Process` runs a function in a new process\n",
    "- Each process has its own memory space\n",
    "- Start with `start()`, wait with `join()`\n",
    "- Good for CPU-bound tasks"
   ]
  },
  {
   "cell_type": "markdown",
   "id": "7b114b7a",
   "metadata": {},
   "source": [
    "#### Running Multiple Processes"
   ]
  },
  {
   "cell_type": "code",
   "execution_count": null,
   "id": "557a6618",
   "metadata": {},
   "outputs": [],
   "source": [
    "import os"
   ]
  },
  {
   "cell_type": "code",
   "execution_count": null,
   "id": "fdf12f88",
   "metadata": {},
   "outputs": [],
   "source": [
    "def wr(n):\n",
    "    print(f\"Worker {n} PID {os.getpid()}\")"
   ]
  },
  {
   "cell_type": "code",
   "execution_count": null,
   "id": "15c34ddc",
   "metadata": {},
   "outputs": [],
   "source": [
    "if __name__ == \"__main__\":\n",
    "    for i in range(3):\n",
    "        p = mp.Process(target=wr, args=(i,))\n",
    "        p.start()\n",
    "        p.join()"
   ]
  },
  {
   "cell_type": "markdown",
   "id": "6f29a700",
   "metadata": {},
   "source": [
    "### Key Points:\n",
    "- True Create multiple processes in a loop\n",
    "- Each runs fully in parallel\n",
    "- Ideal for dividing CPU-heavy work"
   ]
  },
  {
   "cell_type": "markdown",
   "id": "86820ae7",
   "metadata": {},
   "source": [
    "<hr style=\"border:1.3px solid gray\">"
   ]
  },
  {
   "cell_type": "markdown",
   "id": "12401618",
   "metadata": {},
   "source": [
    "## Using `concurrent.futures`\n",
    "#### `ThreadPoolExecutor` (I/O-bound)"
   ]
  },
  {
   "cell_type": "code",
   "execution_count": null,
   "id": "4e80c62d",
   "metadata": {},
   "outputs": [],
   "source": [
    "import concurrent.futures as cf\n",
    "import time"
   ]
  },
  {
   "cell_type": "code",
   "execution_count": null,
   "id": "a9c5470e",
   "metadata": {},
   "outputs": [],
   "source": [
    "def fetch(i):\n",
    "    print(\"Start fetching\", i)\n",
    "    time.sleep(1)\n",
    "    print(\"Done with\", i)\n",
    "    return i*10"
   ]
  },
  {
   "cell_type": "code",
   "execution_count": null,
   "id": "d5b89c52",
   "metadata": {},
   "outputs": [],
   "source": [
    "with cf.ThreadPoolExecutor() as exc:\n",
    "    results = list(exc.map(fetch, range(3)))\n",
    "\n",
    "print(\"Results:\", results)"
   ]
  },
  {
   "cell_type": "markdown",
   "id": "3fdf4a16",
   "metadata": {},
   "source": [
    "### Key Points:\n",
    "- Threads run concurrently\n",
    "- Easy API with ThreadPoolExecutor\n",
    "- Threads share memory"
   ]
  },
  {
   "cell_type": "markdown",
   "id": "a6031354",
   "metadata": {},
   "source": [
    "#### `ProcessPoolExecutor` (CPU-bound)"
   ]
  },
  {
   "cell_type": "code",
   "execution_count": null,
   "id": "57d86fad",
   "metadata": {},
   "outputs": [],
   "source": [
    "def sr(n):\n",
    "    print(f\"Squaring {n}\\n\")\n",
    "    return n*n"
   ]
  },
  {
   "cell_type": "code",
   "execution_count": null,
   "id": "4380a426",
   "metadata": {},
   "outputs": [],
   "source": [
    "if __name__ == \"__main__\":\n",
    "    with cf.ProcessPoolExecutor() as exc:\n",
    "        results = list(exc.map(sr, range(4)))\n",
    "\n",
    "    print(\"Squares:\", results)"
   ]
  },
  {
   "cell_type": "markdown",
   "id": "0176fe09",
   "metadata": {},
   "source": [
    "### Key Points:\n",
    "- Use multiple processes not threads\n",
    "- Ideal for CPU-intensive taskts\n",
    "- Each function call runs in parallel"
   ]
  },
  {
   "cell_type": "markdown",
   "id": "cb93d130",
   "metadata": {},
   "source": [
    "<hr style=\"border:1.3px solid gray\">"
   ]
  },
  {
   "cell_type": "markdown",
   "id": "59646172",
   "metadata": {},
   "source": [
    "## Shared Memory in Multiprocessing\n",
    "#### Using `Value` (Shared Scalar)"
   ]
  },
  {
   "cell_type": "code",
   "execution_count": null,
   "id": "25d5ac47",
   "metadata": {},
   "outputs": [],
   "source": [
    "import multiprocessing as mp"
   ]
  },
  {
   "cell_type": "code",
   "execution_count": null,
   "id": "5b6f8482",
   "metadata": {},
   "outputs": [],
   "source": [
    "def add(val): #Function to increment a shared value\n",
    "    for i in range(10000):\n",
    "        val.value += 1"
   ]
  },
  {
   "cell_type": "code",
   "execution_count": null,
   "id": "c9227474",
   "metadata": {},
   "outputs": [],
   "source": [
    "if __name__ == \"__main__\":\n",
    "    ctr = mp.Value(\"i\", 0) # Shared integer\n",
    "     # Start 2 processes that runs add() using the\n",
    "     # shared counter\n",
    "    p1 = mp.Process(target=add, args=(ctr,))\n",
    "    p2 = mp.Process(target=add, args=(ctr,))\n",
    "    p1.start(); p2.start()\n",
    "    p1.join(); p2.join()\n",
    "\n",
    "    print(\"Final count:\", ctr.value)"
   ]
  },
  {
   "cell_type": "markdown",
   "id": "4ac57b26",
   "metadata": {},
   "source": [
    "### Key Points:\n",
    "- `Value` stores a single shared value\n",
    "- `“i“` = C-style integer format\n",
    "- Shared between processes safely"
   ]
  },
  {
   "cell_type": "markdown",
   "id": "89bf3918",
   "metadata": {},
   "source": [
    "#### Using `Array` (Shared List)"
   ]
  },
  {
   "cell_type": "code",
   "execution_count": null,
   "id": "0f3f2e52",
   "metadata": {},
   "outputs": [],
   "source": [
    "# Function to square each element in a shared array\n",
    "def sr(arr):     \n",
    "    for i in range(len(arr)):\n",
    "        arr[i] = arr[i] * arr[i]"
   ]
  },
  {
   "cell_type": "code",
   "execution_count": null,
   "id": "4c3b931e",
   "metadata": {},
   "outputs": [],
   "source": [
    "if __name__ == \"__main__\":\n",
    "    numbers = mp.Array(\"i\", [1, 2, 3, 4])\n",
    "    p = mp.Process(target=sr,args=(numbers,))      \n",
    "    p.start()\n",
    "    p.join()\n",
    "\n",
    "    print(\"Squared Array:\", list(numbers))"
   ]
  },
  {
   "cell_type": "markdown",
   "id": "27627dba",
   "metadata": {},
   "source": [
    "### Key Points:\n",
    "- `Array` shares a fixed-size list\n",
    "- Elements are updated in-place\n",
    "- Changes are visible across processes"
   ]
  },
  {
   "cell_type": "markdown",
   "id": "13c4f49b",
   "metadata": {},
   "source": [
    "<hr style=\"border:1.3px solid gray\">"
   ]
  },
  {
   "cell_type": "markdown",
   "id": "b73e7883",
   "metadata": {},
   "source": [
    "## Accelerating with Numba (JIT Basics)\n",
    "#### Using `@jit` for Instant Speed-up"
   ]
  },
  {
   "cell_type": "code",
   "execution_count": null,
   "id": "2704da5f",
   "metadata": {},
   "outputs": [],
   "source": [
    "from numba import jit\n",
    "import time"
   ]
  },
  {
   "cell_type": "code",
   "execution_count": null,
   "id": "e1f136c5",
   "metadata": {},
   "outputs": [],
   "source": [
    "@jit\n",
    "def compute():\n",
    "    total = 0\n",
    "    for i in range(100_000_000):\n",
    "        total += i*i\n",
    "    return total"
   ]
  },
  {
   "cell_type": "code",
   "execution_count": null,
   "id": "5be47174",
   "metadata": {},
   "outputs": [],
   "source": [
    "start = time.perf_counter()\n",
    "result = compute()\n",
    "print(\"Result:\", result)\n",
    "print(\"Time:\", time.perf_counter() - start)"
   ]
  },
  {
   "cell_type": "markdown",
   "id": "b4474100",
   "metadata": {},
   "source": [
    "### Key Points:\n",
    "- `@jit` compiles the function at runtime\n",
    "- Massive speed-up for loops and math\n",
    "- Works with pure Python syntax"
   ]
  },
  {
   "cell_type": "markdown",
   "id": "a4c5945d",
   "metadata": {},
   "source": [
    "#### Using @njit"
   ]
  },
  {
   "cell_type": "code",
   "execution_count": null,
   "id": "f5b3e8dd",
   "metadata": {},
   "outputs": [],
   "source": [
    "from numba import njit"
   ]
  },
  {
   "cell_type": "code",
   "execution_count": null,
   "id": "10320562",
   "metadata": {},
   "outputs": [],
   "source": [
    "@njit\n",
    "def multiply():\n",
    "    result = 1\n",
    "    for i in range(1, 1_000_000):\n",
    "        result *= 1.00001\n",
    "    return result"
   ]
  },
  {
   "cell_type": "code",
   "execution_count": null,
   "id": "756b7535",
   "metadata": {},
   "outputs": [],
   "source": [
    "start = time.perf_counter()\n",
    "output = multiply()\n",
    "print(\"Output:\", output)\n",
    "print(\"Time:\", time.perf_counter() - start)"
   ]
  },
  {
   "cell_type": "markdown",
   "id": "0a2fb007",
   "metadata": {},
   "source": [
    "### Key Points:\n",
    "- `@njit` = no Python interpreter fallback\n",
    "- Pure machine level speed\n",
    "- Best for tight numeric loops"
   ]
  },
  {
   "cell_type": "markdown",
   "id": "4a405200",
   "metadata": {},
   "source": [
    "<hr style=\"border:1.3px solid gray\">"
   ]
  },
  {
   "cell_type": "markdown",
   "id": "6de6fc9a",
   "metadata": {},
   "source": [
    "## Accelerating with Numba\n",
    "#### Parallel sum with `prange`"
   ]
  },
  {
   "cell_type": "code",
   "execution_count": null,
   "id": "13ef7c87",
   "metadata": {},
   "outputs": [],
   "source": [
    "from numba import njit\n",
    "import numba\n",
    "import time"
   ]
  },
  {
   "cell_type": "code",
   "execution_count": null,
   "id": "bd99595a",
   "metadata": {},
   "outputs": [],
   "source": [
    "@njit(parallel=True)\n",
    "def parallel_sum():\n",
    "    total = 0\n",
    "    for i in numba.prange(1_000_000):\n",
    "        total += i\n",
    "    return total"
   ]
  },
  {
   "cell_type": "code",
   "execution_count": null,
   "id": "3610aec8",
   "metadata": {},
   "outputs": [],
   "source": [
    "start = time.perf_counter()\n",
    "result = parallel_sum()\n",
    "print(\"Result:\", result)\n",
    "print(\"Time:\", time.perf_counter() - start)"
   ]
  },
  {
   "cell_type": "markdown",
   "id": "50b29a75",
   "metadata": {},
   "source": [
    "#### Parallel Element-wise Operation"
   ]
  },
  {
   "cell_type": "code",
   "execution_count": null,
   "id": "ff6b0e2d",
   "metadata": {},
   "outputs": [],
   "source": [
    "import numpy as np"
   ]
  },
  {
   "cell_type": "code",
   "execution_count": null,
   "id": "bea2cd82",
   "metadata": {},
   "outputs": [],
   "source": [
    "@njit(parallel=True)\n",
    "def scale_array(arr):\n",
    "    for i in numba.prange(len(arr)):\n",
    "        arr[i] = arr[i] * 2"
   ]
  },
  {
   "cell_type": "code",
   "execution_count": null,
   "id": "f1d44308",
   "metadata": {},
   "outputs": [],
   "source": [
    "data = np.arange(1_000_000, dtype=\"int64\")\n",
    "scale_array(data)\n",
    "print(\"First 5:\", data[:5])"
   ]
  },
  {
   "cell_type": "markdown",
   "id": "8bebf0e9",
   "metadata": {},
   "source": [
    "### Key Points:\n",
    "- Operates directly on NumPy array\n",
    "- Auto-parallelized loop with `prange`\n",
    "- Numba = fast without leaving Python"
   ]
  },
  {
   "cell_type": "markdown",
   "id": "15d10017",
   "metadata": {},
   "source": [
    "<hr style=\"border:1.3px solid gray\">"
   ]
  },
  {
   "cell_type": "code",
   "execution_count": null,
   "id": "854f8e3a",
   "metadata": {},
   "outputs": [],
   "source": [
    "%%writefile cy_add.pyx\n",
    "def add(int a, int b):\n",
    "    cdef int result\n",
    "    result = a + b\n",
    "    return result"
   ]
  },
  {
   "cell_type": "code",
   "execution_count": null,
   "id": "62d2e90a",
   "metadata": {},
   "outputs": [],
   "source": [
    "from Cython.Build import cythonize\n",
    "cythonize(\"cy_add.pyx\", language_level=\"3\")"
   ]
  },
  {
   "cell_type": "markdown",
   "id": "290f0d03",
   "metadata": {},
   "source": [
    "### Key Points:\n",
    "- Cython compiles Python to C\n",
    "- Static types boost performance\n",
    "- `cdef` declares C-level variables"
   ]
  },
  {
   "cell_type": "markdown",
   "id": "6c73139a",
   "metadata": {},
   "source": [
    "#### Using Cython from Python code"
   ]
  },
  {
   "cell_type": "code",
   "execution_count": null,
   "id": "2b21f08a",
   "metadata": {},
   "outputs": [],
   "source": [
    "import pyximport\n",
    "pyximport.install()"
   ]
  },
  {
   "cell_type": "code",
   "execution_count": null,
   "id": "ad117f90",
   "metadata": {},
   "outputs": [],
   "source": [
    "import cy_add"
   ]
  },
  {
   "cell_type": "code",
   "execution_count": null,
   "id": "7cf082e4",
   "metadata": {},
   "outputs": [],
   "source": [
    "print(\"3 + 4 =\", cy_add.add(3, 4))\n",
    "print(\"10 + 20 =\", cy_add.add(10, 20))"
   ]
  },
  {
   "cell_type": "markdown",
   "id": "98919444",
   "metadata": {},
   "source": [
    "```bash\n",
    "# No need to manage shared libraries\n",
    "# Python imports compiled Cython module\n",
    "```"
   ]
  },
  {
   "cell_type": "markdown",
   "id": "1ef3d0ae",
   "metadata": {},
   "source": [
    "### Key Points:\n",
    "- Use `pyximport` for easy development\n",
    "- Imports like a regular python module\n",
    "- Code runs at compiled C speed"
   ]
  },
  {
   "cell_type": "markdown",
   "id": "df116881",
   "metadata": {},
   "source": [
    "<hr style=\"border:1.3px solid gray\">"
   ]
  },
  {
   "cell_type": "markdown",
   "id": "7c00e63a",
   "metadata": {},
   "source": [
    "## Accelerating with Cython (Integration)\n",
    "#### Creating a `setup.py` for Cython"
   ]
  },
  {
   "cell_type": "code",
   "execution_count": null,
   "id": "daa57db9",
   "metadata": {},
   "outputs": [],
   "source": [
    "%%writefile setup.py\n",
    "import setuptools as st\n",
    "import Cython.Build as cb\n",
    " \n",
    "st.setup(\n",
    "  name=\"cy_add\",\n",
    "  ext_modules=cb.cythonize(\"cy_add.pyx\"),\n",
    "  zip_safe=False\n",
    ")"
   ]
  },
  {
   "cell_type": "code",
   "execution_count": null,
   "id": "82d4820d",
   "metadata": {},
   "outputs": [],
   "source": [
    "! python setup.py build_ext --inplace"
   ]
  },
  {
   "cell_type": "markdown",
   "id": "2b5731d6",
   "metadata": {},
   "source": [
    "### Key Points:\n",
    "- Use setuptools+cythonize for building\n",
    "- Compiles `.pyx` to fast C extensions\n",
    "- Produces `.so` or `.pyd` file in-place"
   ]
  },
  {
   "cell_type": "markdown",
   "id": "a2335e37",
   "metadata": {},
   "source": [
    "#### Using the Compiled Module"
   ]
  },
  {
   "cell_type": "code",
   "execution_count": null,
   "id": "8c6117eb",
   "metadata": {},
   "outputs": [],
   "source": [
    "%%writefile main.py\n",
    "import cy_add\n",
    "\n",
    "print(\"Fast add:\", cy_add.add(7, 8))\n",
    "print(\"Another one:\", cy_add.add(100, 30))"
   ]
  },
  {
   "cell_type": "code",
   "execution_count": null,
   "id": "1282389e",
   "metadata": {},
   "outputs": [],
   "source": [
    "! python main.py"
   ]
  },
  {
   "cell_type": "markdown",
   "id": "5d8c2618",
   "metadata": {},
   "source": [
    "### Key Points:\n",
    "- Import compiled module directly\n",
    "- Runs at native C speed\n",
    "- Compatible with any Python code"
   ]
  },
  {
   "cell_type": "markdown",
   "id": "b053c1b8",
   "metadata": {},
   "source": [
    "<hr style=\"border:1.3px solid gray\">"
   ]
  },
  {
   "cell_type": "markdown",
   "id": "a0876711",
   "metadata": {},
   "source": [
    "## Best Practices and Common Pitfalls\n",
    "#### Best Practices for Parallel Code"
   ]
  },
  {
   "cell_type": "code",
   "execution_count": null,
   "id": "d4a7f8f0",
   "metadata": {},
   "outputs": [],
   "source": [
    "import concurrent.futures as cf "
   ]
  },
  {
   "cell_type": "code",
   "execution_count": null,
   "id": "c6936134",
   "metadata": {},
   "outputs": [],
   "source": [
    "def sr(n):\n",
    "    return n*n\n",
    "\n",
    "if __name__ == \"__main__\":\n",
    "    with cf.ProcessPoolExecutor() as pl:\n",
    "        results = list(pl.map(sr, range(5)))\n",
    "\n",
    "        print(\"Result:\", results)"
   ]
  },
  {
   "cell_type": "markdown",
   "id": "c19eabb5",
   "metadata": {},
   "source": [
    "### Key Points:\n",
    "- Always guard parallel code with `if __name__ == \"__main__\"`\n",
    "- Use `with` blocks to manage executors cleanly\n",
    "- Processes for CPU, threads for I/O"
   ]
  },
  {
   "cell_type": "markdown",
   "id": "b63ff9e3",
   "metadata": {},
   "source": [
    "#### Common Pitfalls to Avoid"
   ]
  },
  {
   "cell_type": "code",
   "execution_count": null,
   "id": "7a08c2d9",
   "metadata": {},
   "outputs": [],
   "source": [
    "import multiprocessing as mp"
   ]
  },
  {
   "cell_type": "code",
   "execution_count": null,
   "id": "5333f0e0",
   "metadata": {},
   "outputs": [],
   "source": [
    "def run():\n",
    "    print(\"Running task\")"
   ]
  },
  {
   "cell_type": "code",
   "execution_count": null,
   "id": "d3b3961d",
   "metadata": {},
   "outputs": [],
   "source": [
    "# Missing __main__ guard crashes or hang\n",
    "p = mp.Process(target=run)\n",
    "p.start()\n",
    "p.join()"
   ]
  },
  {
   "cell_type": "markdown",
   "id": "c01738a1",
   "metadata": {},
   "source": [
    "### Key Points:\n",
    "- Missing `__main__` guard breaks the multiprocessing on Windows/MacOS\n",
    "- Overusing threads causes context switching overhead\n",
    "- Don‘t parallelize tiny or fast tasks"
   ]
  },
  {
   "cell_type": "markdown",
   "id": "3d61a19f",
   "metadata": {},
   "source": [
    "<hr style=\"border:1.3px solid gray\">"
   ]
  },
  {
   "cell_type": "code",
   "execution_count": null,
   "id": "febe7529",
   "metadata": {},
   "outputs": [],
   "source": []
  }
 ],
 "metadata": {
  "kernelspec": {
   "display_name": "Python 3 (ipykernel)",
   "language": "python",
   "name": "python3"
  },
  "language_info": {
   "codemirror_mode": {
    "name": "ipython",
    "version": 3
   },
   "file_extension": ".py",
   "mimetype": "text/x-python",
   "name": "python",
   "nbconvert_exporter": "python",
   "pygments_lexer": "ipython3",
   "version": "3.12.10"
  }
 },
 "nbformat": 4,
 "nbformat_minor": 5
}
